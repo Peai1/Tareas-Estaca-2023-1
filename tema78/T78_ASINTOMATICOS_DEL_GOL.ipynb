{
  "nbformat": 4,
  "nbformat_minor": 0,
  "metadata": {
    "colab": {
      "provenance": [],
      "collapsed_sections": [
        "0-u6cMQeKEqm",
        "B3hucLNG3NNc"
      ]
    },
    "kernelspec": {
      "name": "python3",
      "display_name": "Python 3"
    },
    "language_info": {
      "name": "python"
    }
  },
  "cells": [
    {
      "cell_type": "markdown",
      "source": [
        "<h1 align='center'> INF-280 Estadística Computacional 2023-1 </h1>\n",
        "\n",
        "<H3 align='center'> Tema 7 y 8 - Intervalos de Confianza y Test de Hipótesis  </H3>"
      ],
      "metadata": {
        "id": "tmYW065Z_f9o"
      }
    },
    {
      "cell_type": "markdown",
      "source": [
        "### **Datos del grupo**\n"
      ],
      "metadata": {
        "id": "U_Kcum82_l-Y"
      }
    },
    {
      "cell_type": "markdown",
      "source": [
        "\n",
        " Nombre del grupo: ASINTOMATICOS DEL GOL\n",
        "\n",
        "*   Felipe León Córdova - 202173598-4 - [video](https://www.youtube.com/watch?v=vyk3BreZ-5c&ab_channel=FelipeLeon)\n",
        "*   Fernando Salgado Méndez - 202173580-1 - [video](https://youtu.be/Edo_f8rDfUc)\n",
        "*   Benjamin Lopez - 202173533-k - [video](https://youtu.be/5zdqbXofQBY)\n",
        "\n",
        "*Recuerden que si su grupo se llama \"Llamado de emergencia\", entonces el nombre del archivo debe ser T78_Llamado_de_emergencia.ipynb*"
      ],
      "metadata": {
        "id": "7-TbhM_FAEy5"
      }
    },
    {
      "cell_type": "markdown",
      "source": [
        "### **Formalidades**  "
      ],
      "metadata": {
        "id": "IQ1c3H_F_KG6"
      }
    },
    {
      "cell_type": "markdown",
      "source": [
        "* Es posible utilizar apuntes, libros, papers, ejemplos y cualquier otro material que desee de internet, pero deben ser ustedes quienes desarrollen los ejercicios y comenten los resultados en el Notebook que entregará.\n",
        "* Se permite el uso de las librerías: pandas, numpy, matplotlib y seaborn. Si desea utilizar otra librería debe indicar cómo instalarla.\n",
        "* Se debe trabajar en grupos de **dos o tres personas**.\n",
        "* Además del Notebook, deberán entregar un video explicando lo que hizo, paso a paso, como en los ejemplos entregados en AULA. Este vídeo es **individual**, es decir, cada integrante debe hacerlo por separado (debiendo utilizar el mismo Jupyter Notebook). El video puede ser subido a una plataforma externa como Youtube, Google Drive, ó Dropbox. El **link a compartir** (*visible para cualquier usuario con el link*) debe ir dentro del Notebook.\n",
        "* La nota de esta actividad es grupal."
      ],
      "metadata": {
        "id": "yC57mWJWA6Ij"
      }
    },
    {
      "cell_type": "markdown",
      "source": [
        "### **Descuentos**"
      ],
      "metadata": {
        "id": "kWc7BARoDtQJ"
      }
    },
    {
      "cell_type": "markdown",
      "source": [
        "* Se descontarán 5 puntos si el nombre del archivo subido no sigue el formato indicado.\n",
        "* Se descontarán 5 puntos por cada hora de atraso en la entrega.\n",
        "* Se descontarán 3 puntos por cada gráfico que no incluya los nombres de los ejes."
      ],
      "metadata": {
        "id": "v0V1nMBHDvLU"
      }
    },
    {
      "cell_type": "markdown",
      "source": [
        "### **Entrega**"
      ],
      "metadata": {
        "id": "Qisu3zwrA1ll"
      }
    },
    {
      "cell_type": "markdown",
      "source": [
        "* **Formato**: Se debe realizar una **única** entrega por grupo (un representate del grupo) a través de  __[**Aula**](https://aula.usm.cl/)__.\n",
        "* **Archivo**:\n",
        "\n",
        "    *   El nombre del archivo a subir debe ser **T78_Nombre_Del_Equipo.ipynb**, por ejemplo, si su equipo se llama \"Llamado de emergencia\", entonces el nombre del archivo debe ser **T78_Llamado_de_emergencia.ipynb**\n",
        "    *   El Jupyter Notebook debe incluir **todos links** a los vídeos explicativos, uno por cada integrante.\n",
        "    *   Cada video debe tener una **duración máxima de 15 minutos**.\n",
        "* **Fecha límite**: Domingo 2 de Julio hasta las 23:59."
      ],
      "metadata": {
        "id": "uxFLlu2OA_5b"
      }
    },
    {
      "cell_type": "markdown",
      "source": [
        "<img src='https://capitalhumano.emol.com/wp-content/uploads/2019/01/salarychief.jpg' width='500' style='display:block; margin:auto;'/>"
      ],
      "metadata": {
        "id": "RwELncd0C2nx"
      }
    },
    {
      "cell_type": "markdown",
      "source": [
        "## Contexto"
      ],
      "metadata": {
        "id": "LdKfR503C7V1"
      }
    },
    {
      "cell_type": "markdown",
      "source": [
        "En el campo de la ingeniería de software, es importante analizar si existen diferencias salariales significativas basadas en factores como el género, la experiencia laboral y la educación. Esto nos ayudará a comprender posibles brechas salariales y desigualdades en esta industria altamente competitiva. Al explorar estas variables, podremos evaluar la igualdad salarial y las oportunidades profesionales para hombres y mujeres en el campo de la ingeniería de software."
      ],
      "metadata": {
        "id": "dZeZNz-CKBuZ"
      }
    },
    {
      "cell_type": "markdown",
      "source": [
        "## Preguntas"
      ],
      "metadata": {
        "id": "kwPQzDn_JX1I"
      }
    },
    {
      "cell_type": "markdown",
      "source": [
        "**Tema 7: Intervalos de Confianza**\n",
        "\n",
        "**Importante** para las siguientes preguntas:\n",
        "* Indique explicitamente **los supuestos** que consideraron.Esto implica especificar si se asumió que la varianza poblacional es conocida o no. Además, es fundamental proporcionar una justificación clara y fundamentada para respaldar la elección de ese supuesto en particular.\n",
        "* Si realizan un intervalo de confianza (IC) para la diferencia de medias, es importante indicar si se consideró la suposición de homocedasticidad o heterocedasticidad. Esto implica especificar si se asumió que las varianzas de las dos poblaciones son iguales (homocedasticidad) o si se permitió que fueran diferentes (heterocedasticidad).\n",
        "\n",
        "\n",
        "1. **[20 pts]** Construya un Intervalo de Confianza para el salario (\"Salary\") promedio de las personas cuyo título profesional es \"Software Engineer\". ¿Es correcto afirmar que el **salario promedio verdadero** de los \"Software Engineer\" es alrededor de \\$113.000 ?. En caso de que sea correcto, ¿Que ocurre si se tuviese una muestra con la misma media y desviación estándar, pero con 100 veces más datos?, es decir, ¿Que ocurre con tamaño del intervalo de confianza?, ¿Se puede seguir afirmando que el salario promedio verdadero es alrededor de \\\\$113.000 ?\n",
        "\n",
        "2. **[15 pts]** Compare el salario promedio de los \"Software Engineer\" que tienen **3 o más** años de experiencia con aquellos que tienen **menos de 3 años** de experiencia. ¿Es correcto afirmar que la **diferencia media verdadera** entre sus sueldos es alrededor de \\$65.000?\n",
        "\n",
        "3. **[15 pts]** Se piensa que existe una brecha salarial de género en las personas que son \"Senior Software Engineer\". ¿Es correcto afirmar que la **diferencia media verdadera** entre los sueldos de los hombres v/s mujeres es alrededor de \\$20.000?\n",
        "\n",
        "---\n",
        "**Tema 8: Test de Hipótesis**\n",
        "\n",
        "**Importante** para las siguientes preguntas:\n",
        "* Indique explicitamente **los supuestos** que consideraron.\n",
        "* Indique explicitamente **$H_0$** y **$H_1$**.\n",
        "* Indique explicitamente el valor del **Estadístico de Contraste**.\n",
        "* Indique explicitamente la **Región Crítica**.\n",
        "* Indique explicitamente si **se rechaza $H_0$** o **no se rechaza $H_0$**.\n",
        "\n",
        "4. **[20 pts]** Se piensa que existe una brecha salarial de género en las personas que son \"Senior Software Engineer\". Diseñe un contraste que permita evaluar la hipótesis de que \"el salario promedio de las mujeres que son 'Senior Software Engineer' **es menor** que el de los hombres con el mismo título\". Diseñe su contraste de manera que la probabilidad de aceptar incorrectamente esta conjetura es menor al 5%. Además, **determine el p-valor** e indique que ocurre para valores de $\\alpha$ mayores y menores al p-valor.\n",
        "\n",
        "5. **[15 pts]** Diseñe un contraste que permita evaluar la hipótesis de que \"*la proporción de  mujeres que son 'Software Engineer' **es menor** que la proporción de hombres que son 'Software Engineer'*\". Diseñe su contraste de manera que la probabilidad de aceptar incorrectamente esta conjetura es menor al 5%. ¿Qué se puede concluir?\n",
        "\n",
        "6. **[15 pts]** Se piensa que existe una brecha de género en las personas con educación superior ('Bachelor's Degree', 'Master's Degree', 'PhD'). Ejecute un contraste donde $H_0$ corresponda a que \"*la proporción de mujeres con educación superior es **mayor o igua**l a 0.5*\". Considere $\\alpha = 0.05$. Además, **determine el p-valor** e interprete este valor, ¿Qué se puede concluir?"
      ],
      "metadata": {
        "id": "7g1FXAkkJZ6H"
      }
    },
    {
      "cell_type": "markdown",
      "source": [
        "## Librerías"
      ],
      "metadata": {
        "id": "0-u6cMQeKEqm"
      }
    },
    {
      "cell_type": "code",
      "source": [
        "import pandas as pd\n",
        "import numpy as np\n",
        "import seaborn as sns; sns.set()\n",
        "import matplotlib.pyplot as plt\n",
        "import warnings\n",
        "warnings.filterwarnings(\"ignore\")"
      ],
      "metadata": {
        "id": "yHdIzA79KIJ6"
      },
      "execution_count": null,
      "outputs": []
    },
    {
      "cell_type": "markdown",
      "source": [
        "## Lectura de Datos"
      ],
      "metadata": {
        "id": "B3hucLNG3NNc"
      }
    },
    {
      "cell_type": "code",
      "source": [
        "df_salary = pd.read_csv('https://drive.google.com/uc?id=1JJBea7ezpNqzOaDYv4OTsjL8VD3J9bmn')"
      ],
      "metadata": {
        "id": "QFQM-_vb3QXT"
      },
      "execution_count": null,
      "outputs": []
    },
    {
      "cell_type": "markdown",
      "source": [
        "## Funciones útiles"
      ],
      "metadata": {
        "id": "aWVEO_5zvaH2"
      }
    },
    {
      "cell_type": "markdown",
      "source": [
        "### Funciones para Intervalos de Confianza"
      ],
      "metadata": {
        "id": "fy67omGttySa"
      }
    },
    {
      "cell_type": "markdown",
      "source": [
        "A continuación se les entregan una serie de funciones que les podrían servir para realizar el taller. Se recomienda que las revisen por si es que existe algún error."
      ],
      "metadata": {
        "id": "P2sSlQH6t-q1"
      }
    },
    {
      "cell_type": "code",
      "source": [
        "from scipy.stats import norm, t, chisquare\n",
        "from scipy.stats import f as fisher\n",
        "\n",
        "\n",
        "def IC_media(n, media_muestral, std_muestral, alpha=0.05):\n",
        "    return t.interval(1-alpha, df=n-1, loc=media_muestral, scale=std_muestral/np.sqrt(n))\n",
        "\n",
        "def IC_prop(n1,frac1,alpha=0.05):\n",
        "  std_err = np.sqrt((frac1*(1.0-frac1)/n1))\n",
        "  z_alpha = norm.ppf(1-alpha/2.0)\n",
        "  IC_inf = frac1 - z_alpha * std_err\n",
        "  IC_sup = frac1 + z_alpha * std_err\n",
        "  return (IC_inf,IC_sup)\n",
        "\n",
        "#para media1-media2\n",
        "def IC_dos_medias_hetero(muestra1, muestra2, alpha=0.05):\n",
        "  n1 = len(muestra1); n2 = len(muestra2);\n",
        "  media1 = np.mean(muestra1); media2 = np.mean(muestra2);\n",
        "  std1 = np.std(muestra1,ddof=1); std2 = np.std(muestra2,ddof=1);\n",
        "  gl_num = (std1**2/float(n1) + std2**2/float(n2))**2\n",
        "  gl_den = ((std1**2/float(n1))**2)/(n1-1.0) + ((std2**2/float(n2))**2)/(n2-1.0)\n",
        "  gl = int(np.floor(gl_num/gl_den))\n",
        "  t_alpha = t.ppf(1-alpha/2.0,df=gl)\n",
        "  std_error = np.sqrt(std1**2/n1 + std2**2/n2)\n",
        "  #print(\">>\",gl,std_error,t_alpha)\n",
        "  IC_inf = (media1-media2) - t_alpha * std_error\n",
        "  IC_sup = (media1-media2) + t_alpha * std_error\n",
        "  return IC_inf,IC_sup\n",
        "\n",
        "#para prop1-prop2\n",
        "def IC_dos_props(n1,n2,frac1,frac2, alpha=0.05):\n",
        "  std_err = np.sqrt((frac1*(1.0-frac1)/n1) + (frac2*(1.0-frac2)/n2))\n",
        "  z_alpha = norm.ppf(1-alpha/2.0)\n",
        "  IC_inf = (frac1-frac2) - z_alpha * std_err\n",
        "  IC_sup = (frac1-frac2) + z_alpha * std_err\n",
        "  return IC_inf,IC_sup"
      ],
      "metadata": {
        "id": "SrRtccMYvcVp"
      },
      "execution_count": null,
      "outputs": []
    },
    {
      "cell_type": "markdown",
      "source": [
        "### Funciones para Test de Hipótesis"
      ],
      "metadata": {
        "id": "aKCprQZSt2pW"
      }
    },
    {
      "cell_type": "code",
      "source": [
        "from scipy.stats import norm, t\n",
        "from scipy.stats import f as fisher\n",
        "\n",
        "\n",
        "#H0: mu1 = mu0 (mu1 desconocida, m0 valor fijo, sigma desconocida)\n",
        "def contraste_1media(n1,media1,std1,mu0,error_tipo1,alternativa='1>0'):\n",
        "  region_critica = []\n",
        "  gl = n1-1\n",
        "  std_error = np.sqrt(std1**2/n1)\n",
        "  T0 = (media1-mu0)/std_error#estadistico bajo H0\n",
        "  if (alternativa=='1>0'):\n",
        "    region_critica.append(pd.Interval(left=t.ppf(1-error_tipo1,df=gl), right=np.inf,closed='neither'))\n",
        "    p_value = 1-t.cdf(T0,df=gl)\n",
        "  elif (alternativa=='1<0'):\n",
        "    region_critica.append(pd.Interval(left=-np.inf, right=t.ppf(error_tipo1,df=gl),closed='neither'))\n",
        "    p_value = t.cdf(T0,df=gl)\n",
        "  else:#dos colas\n",
        "    region_critica.append(pd.Interval(left=-np.inf,right=t.ppf(error_tipo1/2,df=gl),closed='neither'))\n",
        "    region_critica.append(pd.Interval(left=t.ppf(1-error_tipo1/2,df=gl),right=np.inf,closed='neither'))\n",
        "    p_value = 2*min(1-t.cdf(T0,df=gl),t.cdf(T0,df=gl))\n",
        "  return T0, region_critica, p_value\n",
        "\n",
        "\n",
        "#H0: mu_x = mu_y (mu_x,mu_y ambas no conocidas, sigma diferente y desconocido)\n",
        "def contraste_2medias(n_x,n_y,media_x,media_y,std_x,std_y,error_tipo1,alternativa='x>y'):\n",
        "  region_critica = []\n",
        "  gl_num = (std_x**2/float(n_x) + std_y**2/float(n_y))**2\n",
        "  gl_den = ((std_x**2/float(n_x))**2)/(n_x-1.0) + ((std_y**2/float(n_y))**2)/(n_y-1.0)\n",
        "  gl = int(np.floor(gl_num/gl_den))\n",
        "  std_error = np.sqrt(std_x**2/n_x + std_y**2/n_y)\n",
        "  T0 = (media_x-media_y)/std_error#estadistico bajo H0\n",
        "  if (alternativa=='x>y'):\n",
        "    region_critica.append(pd.Interval(left=t.ppf(1-error_tipo1,df=gl), right=np.inf,closed='neither'))\n",
        "    p_value = 1-t.cdf(T0,df=gl)\n",
        "  elif (alternativa=='x<y'):\n",
        "    region_critica.append(pd.Interval(left=-np.inf, right=t.ppf(error_tipo1,df=gl),closed='neither'))\n",
        "    p_value = t.cdf(T0,df=gl)\n",
        "  else:#dos colas\n",
        "    region_critica.append(pd.Interval(left=-np.inf,right=t.ppf(error_tipo1/2,df=gl),closed='neither'))\n",
        "    region_critica.append(pd.Interval(left=t.ppf(1-error_tipo1/2,df=gl),right=np.inf,closed='neither'))\n",
        "    p_value = 2*min(1-t.cdf(T0,df=gl),t.cdf(T0,df=gl))\n",
        "  print(gl)\n",
        "  return T0, region_critica, p_value\n",
        "\n",
        "#H0: sigma1 = sigma2 (sigma1,sigma2 ambas no conocidas)\n",
        "def contraste_dos_varianzas(n_x,n_y,std_x,std_y,error_tipo1,alternativa='x>y'):\n",
        "  region_critica = []\n",
        "  F0 = std_x**2/std_y**2\n",
        "  if (alternativa=='x>y'):\n",
        "    region_critica.append(pd.Interval(left=fisher.ppf(1-error_tipo1,dfn=n_x-1, dfd=n_y-1), right=np.inf,closed='neither'))\n",
        "    p_value = 1-fisher.cdf(F0,dfn=n_x-1, dfd=n_y-1)\n",
        "  elif (alternativa=='x<y'):\n",
        "    region_critica.append(pd.Interval(left=-np.inf, right=fisher.ppf(error_tipo1,dfn=n_x-1, dfd=n_y-1),closed='neither'))\n",
        "    p_value = fisher.cdf(F0,dfn=n_x-1, dfd=n_y-1)\n",
        "  else:#dos colas\n",
        "    region_critica.append(pd.Interval(left=-np.inf,right=fisher.ppf(error_tipo1/2,dfn=n_x-1, dfd=n_y-1),closed='neither'))\n",
        "    region_critica.append(pd.Interval(left=fisher.ppf(1-error_tipo1/2,dfn=n_x-1, dfd=n_y-1),right=np.inf,closed='neither'))\n",
        "    p_value = 2*min(1-fisher.cdf(F0,dfn=n_x-1, dfd=n_y-1),fisher.cdf(F0,dfn=n_x-1, dfd=n_y-1))\n",
        "  return F0, region_critica, p_value\n",
        "\n",
        "#H0: p1 = p0 (p1 desconocida, p0 valor fijo)\n",
        "def contraste_1prop(n1,prop1,p0,error_tipo1,alternativa='1>0'):\n",
        "  region_critica = []\n",
        "  std_error = np.sqrt(p0*(1.0-p0))*np.sqrt(1.0/n1)\n",
        "  Z0 = (prop1-p0)/std_error\n",
        "  if (alternativa=='1>0'):\n",
        "    region_critica.append(pd.Interval(left=norm.ppf(1-error_tipo1), right=np.inf,closed='neither'))\n",
        "    p_value = 1-norm.cdf(Z0)\n",
        "  elif (alternativa=='1<0'):\n",
        "    region_critica.append(pd.Interval(left=-np.inf, right=norm.ppf(error_tipo1),closed='neither'))\n",
        "    p_value = norm.cdf(Z0)\n",
        "  else:#dos colas\n",
        "    region_critica.append(pd.Interval(left=-np.inf,right=norm.ppf(error_tipo1/2),closed='neither'))\n",
        "    region_critica.append(pd.Interval(left=norm.ppf(1-error_tipo1/2),right=np.inf,closed='neither'))\n",
        "    print(\">>\",Z0,1-norm.cdf(Z0),norm.cdf(Z0))\n",
        "    p_value = 2*min(1-norm.cdf(Z0),norm.cdf(Z0))\n",
        "  return Z0, region_critica, p_value\n",
        "\n",
        "#H0: p1 = p2 (p1,p2 no conocidas, ni funcion una de la otra)\n",
        "def contraste_2props(n_x,n_y,prop_x,prop_y,error_tipo1,alternativa='x>y'):\n",
        "  region_critica = []\n",
        "  prop_comb = (n_x*prop_x + n_y*prop_y)/(n_x+n_y)\n",
        "  std_error = np.sqrt(prop_comb*(1.0-prop_comb))*np.sqrt(1.0/n_x + 1.0/n_y)\n",
        "  Z0 = (prop_x-prop_y)/std_error\n",
        "\n",
        "  if (alternativa=='x>y'):\n",
        "    region_critica.append(pd.Interval(left=norm.ppf(1-error_tipo1), right=np.inf,closed='neither'))\n",
        "    p_value = 1-norm.cdf(Z0)\n",
        "  elif (alternativa=='x<y'):\n",
        "    region_critica.append(pd.Interval(left=-np.inf, right=norm.ppf(error_tipo1),closed='neither'))\n",
        "    p_value = norm.cdf(Z0)\n",
        "  else:#dos colas\n",
        "    region_critica.append(pd.Interval(left=-np.inf,right=norm.ppf(error_tipo1/2),closed='neither'))\n",
        "    region_critica.append(pd.Interval(left=norm.ppf(1-error_tipo1/2),right=np.inf,closed='neither'))\n",
        "    print(\">>\",Z0,1-norm.cdf(Z0),norm.cdf(Z0))\n",
        "    p_value = 2*min(1-norm.cdf(Z0),norm.cdf(Z0))\n",
        "  return Z0, region_critica, p_value"
      ],
      "metadata": {
        "id": "s5w6w2s7tvmX"
      },
      "execution_count": null,
      "outputs": []
    },
    {
      "cell_type": "markdown",
      "source": [
        "## Ejemplo Test de Hipótesis:\n"
      ],
      "metadata": {
        "id": "dEDiwoi2SP5V"
      }
    },
    {
      "cell_type": "markdown",
      "source": [
        "En un test de hipótesis, la hipótesis nula ($H_0$) corresponde al *status quo*, es decir, a lo que se \"cree que es lo normal\". En cambio, la hipótesis alternativa es lo que se \"sospecha\" que ocurre.\n",
        "\n",
        "Ejemplo:\n",
        "\n",
        "Diseñe un contraste que permita evaluar la hipótesis de que \"la media de la población X es distinta a la media de la población Y\". Diseñe un contraste de manera que la probabilidad de aceptar incorrectamente esta conjetura sea menor al 5%.\n",
        "\n",
        "En este caso, se tiene que:\n",
        "* $H_0$: $μ_X = \\mu_Y$ (Corresponde a lo que se cree \"normal\")\n",
        "* $H_1$: $μ_X \\neq \\mu_Y$\n",
        "\n",
        "Además, se plantean de esta manera las hipótesis ya que \"aceptar incorrectamente la conjetura\" corresponde a un error tipo 1 (valor de $α$) y se sabe que siempre se debe acotar este tipo de error, pues es más grave que un error tipo 2."
      ],
      "metadata": {
        "id": "-gZ2cHl4SLl0"
      }
    },
    {
      "cell_type": "markdown",
      "source": [
        "## Desarrollo"
      ],
      "metadata": {
        "id": "tGu6a0XxjD6C"
      }
    },
    {
      "cell_type": "markdown",
      "source": [
        "### 1)"
      ],
      "metadata": {
        "id": "Kyo8a96GyVVy"
      }
    },
    {
      "cell_type": "markdown",
      "source": [
        "Para este analisis, se asume que la varianza poblacional es desconocida, ya que rara vez conocemos la varianza de la población en el mundo real. En lugar de eso, estimamos la varianza de la población a partir de la muestra que tenemos.\n",
        "\n",
        "No podemos conocer la verdadera varianza de los salarios de todos los ingenieros de software, y debemos estimarla a partir de la muestra que tenemos.\n",
        "\n",
        "Además, en el cálculo del intervalo de confianza para la media, utilizamos la distribución t de Student en lugar de la distribución normal. Esto se hace precisamente porque estamos estimando la varianza de la población a partir de la muestra."
      ],
      "metadata": {
        "id": "LTt84V3vQZfb"
      }
    },
    {
      "cell_type": "code",
      "source": [
        "import pandas as pd\n",
        "import numpy as np\n",
        "from scipy.stats import t\n",
        "\n",
        "df_salario = pd.read_csv('https://drive.google.com/uc?id=1JJBea7ezpNqzOaDYv4OTsjL8VD3J9bmn')\n",
        "\n",
        "# Filtrar los datos para obtener solo los ingenieros de software\n",
        "df_softw = df_salario[df_salario['Job Title'] == 'Software Engineer']\n",
        "\n",
        "# Calcular la media y la desviación estándar de los salarios\n",
        "n = len(df_softw)\n",
        "media_muestral = df_softw['Salary'].mean()\n",
        "std_muestral = df_softw['Salary'].std(ddof=1)\n",
        "\n",
        "# Calcular el intervalo de confianza para la media con varianza desconocida\n",
        "IC = IC_media(n, media_muestral, std_muestral)\n",
        "\n",
        "print(\"El intervalo de confianza para el salario promedio de los ingenieros de software es: \",IC)"
      ],
      "metadata": {
        "colab": {
          "base_uri": "https://localhost:8080/"
        },
        "id": "FdvPIRItPAlc",
        "outputId": "18678feb-3406-4bfb-d7ca-6ba8b983f11a"
      },
      "execution_count": null,
      "outputs": [
        {
          "output_type": "stream",
          "name": "stdout",
          "text": [
            "El intervalo de confianza para el salario promedio de los ingenieros de software es:  (109097.28115071809, 117389.20533576839)\n"
          ]
        }
      ]
    },
    {
      "cell_type": "markdown",
      "source": [
        "Como 113000 está en el intervalo de confianza, se pude asegurar con un 95% de confianza que el salario promedio de los ingenieros de software es alrededor de 113000."
      ],
      "metadata": {
        "id": "E-dseB_KRLFN"
      }
    },
    {
      "cell_type": "code",
      "source": [
        "IC2 = IC_media(n+100, media_muestral, std_muestral)\n",
        "\n",
        "print(\"El intervalo de confianza para el salario promedio de los ingenieros de software es: \",IC2)"
      ],
      "metadata": {
        "colab": {
          "base_uri": "https://localhost:8080/"
        },
        "id": "887zl1_CoOxK",
        "outputId": "49a5f851-1915-4006-dfa4-820ab07b89c8"
      },
      "execution_count": null,
      "outputs": [
        {
          "output_type": "stream",
          "name": "stdout",
          "text": [
            "El intervalo de confianza para el salario promedio de los ingenieros de software es:  (109448.95046817441, 117037.53601831206)\n"
          ]
        }
      ]
    },
    {
      "cell_type": "markdown",
      "source": [
        "Si tuvieramos una muestra con la misma media y desviación estándar, pero con 100 veces más datos, el tamaño del intervalo de confianza se reduciría. Esto se debe a que a medida que el tamaño de la muestra aumenta, la estimación de la media se vuelve más precisa, lo que se refleja en un intervalo de confianza más estrecho. Sin embargo, si 113000 todavía está dentro de este intervalo más estrecho, se podría seguir afirmando que el salario promedio verdadero es alrededor de 113000 con el mismo porcentaje de confianza."
      ],
      "metadata": {
        "id": "0tjSsDtTP1qa"
      }
    },
    {
      "cell_type": "markdown",
      "source": [
        "### 2)"
      ],
      "metadata": {
        "id": "qThEFPBFyWa-"
      }
    },
    {
      "cell_type": "markdown",
      "source": [
        "Primero, necesitamos dividir los datos en dos grupos: aquellos ingenieros de software que tienen 3 o más años de experiencia y aquellos que tienen menos de 3 años de experiencia. Luego, usamos la función IC_dos_medias_hetero para calcular el intervalo de confianza para la diferencia entre las medias de los salarios de estos dos grupos.\n",
        "\n",
        "Para realizar esta pregunta asumimos heterocedasticidad, esto significa que se permitió que la variabilidad en los salarios fuera diferente para los \"Software Engineer\" con 3 o más años de experiencia y aquellos con menos de 3 años de experiencia.\n",
        "\n",
        "Esta suposición puede ser razonable en este contexto, ya que es posible que la variabilidad en los salarios sea diferente para los individuos con diferentes niveles de experiencia. Por ejemplo, puede haber una mayor variabilidad en los salarios entre los \"Software Engineer\" con más experiencia debido a diferencias en las habilidades, la educación, tipo de trabajo, etc."
      ],
      "metadata": {
        "id": "WSeUn6iVSMve"
      }
    },
    {
      "cell_type": "code",
      "source": [
        "# Dividir los datos en dos grupos\n",
        "mas3 = df_softw[df_softw['Years of Experience'] >= 3]\n",
        "menos3 = df_softw[df_softw['Years of Experience'] < 3]\n",
        "\n",
        "# Calcular el intervalo de confianza para la diferencia de medias\n",
        "IC = IC_dos_medias_hetero(mas3['Salary'], menos3['Salary'])\n",
        "\n",
        "print(\"El intervalo de confianza para la diferencia entre las medias de los salarios es: \", IC)\n"
      ],
      "metadata": {
        "colab": {
          "base_uri": "https://localhost:8080/"
        },
        "id": "GvWDD9DGQ8-E",
        "outputId": "32a760aa-d331-4efd-bb6a-09ebb36b2505"
      },
      "execution_count": null,
      "outputs": [
        {
          "output_type": "stream",
          "name": "stdout",
          "text": [
            "El intervalo de confianza para la diferencia entre las medias de los salarios es:  (62261.262758844314, 71108.91030360867)\n"
          ]
        }
      ]
    },
    {
      "cell_type": "markdown",
      "source": [
        "Como 65000 está en el intervalo de confianza, se pude asegurar con un 95% de confianza que la diferencia media de los salarios de los ingenieros de software que tienen menos y mas de 3 años de experiencia es alrededor de 65000.\n"
      ],
      "metadata": {
        "id": "Xe0wVYyASPLk"
      }
    },
    {
      "cell_type": "markdown",
      "source": [
        "### 3)"
      ],
      "metadata": {
        "id": "Q2a3AFBmyXp9"
      }
    },
    {
      "cell_type": "markdown",
      "source": [
        "Para este analisis, igualmente asumimos heterocedasticidad, ya que igualmente es posible que la variabilidad en los salarios sea diferente para Hombres y Mujeres, igualmente por lo mencionado anteriormente, diferencias en la experiencia, la educación, el tipo de trabajo que realizan, etc.\n",
        "\n",
        "\n",
        "Primero, necesitarías filtrar los datos para obtener solo las filas donde el título del trabajo es \"Senior Software Engineer\". Luego, dividirías estos datos en dos grupos: aquellos que son hombres y aquellos que son mujeres. Finalmente, usarías la función IC_dos_medias_hetero que proporcionaste para calcular el intervalo de confianza para la diferencia entre las medias de los salarios de estos dos grupos."
      ],
      "metadata": {
        "id": "tKSS-vmMSa-p"
      }
    },
    {
      "cell_type": "code",
      "source": [
        "# Filtrar los datos para obtener solo los ingenieros de software senior\n",
        "df_senior = df_salario[df_salario['Job Title'] == 'Senior Software Engineer']\n",
        "\n",
        "# Dividir los datos en dos grupos\n",
        "df_senior_hombre = df_senior[df_senior['Gender'] == 'Male']\n",
        "df_senior_mujer = df_senior[df_senior['Gender'] == 'Female']\n",
        "\n",
        "# Calcular el intervalo de confianza para la diferencia de medias\n",
        "IC = IC_dos_medias_hetero(df_senior_hombre['Salary'], df_senior_mujer['Salary'])\n",
        "\n",
        "print(\"El intervalo de confianza para la diferencia entre las medias de los salarios es \",IC)\n"
      ],
      "metadata": {
        "id": "sqHmy4SOypot",
        "colab": {
          "base_uri": "https://localhost:8080/"
        },
        "outputId": "4b505a4e-b1c5-4412-f135-a2e391656059"
      },
      "execution_count": null,
      "outputs": [
        {
          "output_type": "stream",
          "name": "stdout",
          "text": [
            "El intervalo de confianza para la diferencia entre las medias de los salarios es  (16549.104818884014, 30374.78658383087)\n"
          ]
        }
      ]
    },
    {
      "cell_type": "markdown",
      "source": [
        "Como 20000 está en el intervalo de confianza, se pude asegurar con un 95% de confianza que la diferencia media de los salarios de los ingenieros de software que son masculinos y femeninos es alrededor de 20000.\n"
      ],
      "metadata": {
        "id": "NsZq130ESaJ3"
      }
    },
    {
      "cell_type": "markdown",
      "source": [
        "### 4)"
      ],
      "metadata": {
        "id": "JqktkKytyZCR"
      }
    },
    {
      "cell_type": "markdown",
      "source": [
        "Para realizar el test de hipótesis, vamos a utilizar la función contraste_2medias. Esta función realiza un test de hipótesis para la diferencia de medias de dos grupos independientes, asumiendo que las varianzas de los dos grupos pueden ser diferentes (se asume heterocedasticidad).\n",
        "\n",
        "Vamos a definir nuestras hipótesis de la siguiente manera:\n",
        "\n",
        "Hipótesis nula (H0): La media del salario de las mujeres que son 'Senior Software Engineer' es igual a la media del salario de los hombres con el mismo título. \\\\\n",
        "Hipótesis alternativa (H1): La media del salario de las mujeres que son 'Senior Software Engineer' es menor que la media del salario de los hombres con el mismo título. \\\\\n",
        "\n",
        "Vamos a realizar el test de hipótesis con un nivel de significancia de 0.05."
      ],
      "metadata": {
        "id": "fkxLTjQQXqpa"
      }
    },
    {
      "cell_type": "code",
      "source": [
        "df_genero = df_salario[(df_salario['Job Title'] == 'Senior Software Engineer') & (df_salario['Gender'].isin(['Male', 'Female']))]\n",
        "\n",
        "mujer_senior = df_genero[df_genero['Gender'] == 'Female']['Salary']\n",
        "hombre_senior = df_genero[df_genero['Gender'] == 'Male']['Salary']\n",
        "\n",
        "n_mujer = len(mujer_senior)\n",
        "media_mujer = np.mean(mujer_senior)\n",
        "std_mujer = np.std(mujer_senior, ddof=1)\n",
        "\n",
        "n_hombre = len(hombre_senior)\n",
        "media_hombre = np.mean(hombre_senior)\n",
        "std_hombre = np.std(hombre_senior, ddof=1)\n",
        "\n",
        "# x < y, ya que se busca probar que el salario promedio de las mujeres que son 'Senior Software Engineer' es menor que el de los hombres con el mismo título\n",
        "contraste, region_critica, p_value = contraste_2medias(n_mujer, n_hombre, media_mujer, media_hombre, std_mujer, std_hombre, 0.05, 'x<y')\n",
        "\n",
        "print(\"Estadístico de contraste: \", contraste)\n",
        "print(\"Región crítica: \", region_critica)\n",
        "print(\"p-valor: \", p_value)"
      ],
      "metadata": {
        "id": "z2-UPj1TyqNR",
        "colab": {
          "base_uri": "https://localhost:8080/"
        },
        "outputId": "0461135a-bac5-4c68-f3ce-7b3100253162"
      },
      "execution_count": null,
      "outputs": [
        {
          "output_type": "stream",
          "name": "stdout",
          "text": [
            "180\n",
            "Estadístico de contraste:  -6.697077976210162\n",
            "Región crítica:  [Interval(-inf, -1.6533630134964319, closed='neither')]\n",
            "p-valor:  1.3111292869673525e-10\n"
          ]
        }
      ]
    },
    {
      "cell_type": "markdown",
      "source": [
        "Los resultados obtenidos indican lo siguiente:\n",
        "\n",
        "El Estadístico de contraste es -6.697077976210162. Este valor se encuentra en la región crítica, que es cualquier valor menor que -1.6533630134964319.\n",
        "\n",
        "La Región Crítica es el conjunto de valores para los cuales rechazaríamos la hipótesis nula. En este caso, cualquier valor del estadístico de contraste que sea menor que -1.6533630134964319 caería en la región crítica.\n",
        "\n",
        "El p-valor es extremadamente pequeño (1.3111292869673525e-10), mucho menor que el nivel de significancia de 0.05.\n",
        "\n",
        "Por lo tanto, rechazamos la hipótesis nula de que el salario promedio de las mujeres que son 'Senior Software Engineer' es igual al de los hombres con el mismo título. En cambio, los resultados apoyan la hipótesis alternativa de que el salario promedio de las mujeres que son 'Senior Software Engineer' es menor que el de los hombres con el mismo título.\n",
        "\n",
        "El p-valor es la probabilidad de obtener un resultado al menos tan extremo como el observado, asumiendo que la hipótesis nula es verdadera. Un p-valor muy pequeño indica que es muy poco probable obtener estos resultados si la hipótesis nula fuera verdadera. Por lo tanto, un p-valor pequeño es una evidencia fuerte en contra de la hipótesis nula.\n",
        "\n",
        "En resumen, estos resultados indican que existe una brecha salarial de género significativa entre hombres y mujeres que tienen el título de 'Senior Software Engineer'."
      ],
      "metadata": {
        "id": "OxCcT3rmXlLm"
      }
    },
    {
      "cell_type": "markdown",
      "source": [
        "Si el valor de α (nivel de significancia) es mayor que el p-valor, entonces rechazamos la hipótesis nula. Esto se debe a que el nivel de significancia es el umbral que establecemos para decidir cuándo un resultado es lo suficientemente extremo como para rechazar la hipótesis nula. Si el p-valor es menor que α, eso significa que los datos observados son más extremos de lo que estaríamos dispuestos a aceptar si la hipótesis nula fuera verdadera, por lo que rechazamos la hipótesis nula.\n",
        "\n",
        "Por otro lado, si el valor de α es menor que el p-valor, entonces no rechazamos la hipótesis nula. Esto se debe a que no hemos obtenido suficiente evidencia para concluir que el resultado es más extremo de lo que estaríamos dispuestos a aceptar si la hipótesis nula fuera verdadera.\n",
        "\n",
        "Dado que el p-valor es extremadamente pequeño, se rechazaria la hipótesis nula para prácticamente cualquier nivel de significancia α razonable (por ejemplo, α = 0.05, 0.01, 0.001, etc.). Esto indica que hay una evidencia muy fuerte en contra de la hipótesis nula."
      ],
      "metadata": {
        "id": "-LrWTMe1X_iN"
      }
    },
    {
      "cell_type": "markdown",
      "source": [
        "### 5)"
      ],
      "metadata": {
        "id": "bum7Hr5iyah5"
      }
    },
    {
      "cell_type": "markdown",
      "source": [
        "Hipótesis nula (H0): La proporción de mujeres que son 'Software Engineer' es igual a la proporción de hombres que son 'Software Engineer'.\n",
        "\n",
        "Hipótesis alternativa (H1): La proporción de mujeres que son 'Software Engineer' es menor que la proporción de hombres que son 'Software Engineer'. Esta es la hipótesis que estamos probando"
      ],
      "metadata": {
        "id": "jcj04CKCt2dL"
      }
    },
    {
      "cell_type": "code",
      "source": [
        "df = df_salario[df_salario['Job Title'] == 'Software Engineer']\n",
        "\n",
        "n_hombre = len(df[df['Gender'] == 'Male'])\n",
        "n_mujer = len(df[df['Gender'] == 'Female'])\n",
        "\n",
        "# Calcular las proporciones de hombres y mujeres\n",
        "prop_hombre = n_hombre / len(df)\n",
        "prop_mujer = n_mujer / len(df)\n",
        "\n",
        "# Llamar a la función de contraste\n",
        "contraste, region_critica, p_value = contraste_2props(n_mujer, n_hombre, prop_mujer, prop_hombre, 0.05, 'x<y')\n",
        "\n",
        "# Imprimir los resultados\n",
        "print(\"Estadístico de contraste: \", contraste)\n",
        "print(\"Región crítica: \", region_critica)\n",
        "print(\"p-valor: \", p_value)"
      ],
      "metadata": {
        "id": "NLvD1OxZyq3n",
        "colab": {
          "base_uri": "https://localhost:8080/"
        },
        "outputId": "66f2db4a-3765-444c-e151-290368bbeb4a"
      },
      "execution_count": null,
      "outputs": [
        {
          "output_type": "stream",
          "name": "stdout",
          "text": [
            "Estadístico de contraste:  -5.620140999457864\n",
            "Región crítica:  [Interval(-inf, -1.6448536269514729, closed='neither')]\n",
            "p-valor:  9.540083796575686e-09\n"
          ]
        }
      ]
    },
    {
      "cell_type": "markdown",
      "source": [
        "Región Crítica: (-∞, -1.6448536269514729). Si el valor del estadístico de contraste cae en esta región, rechazamos la hipótesis nula.\n",
        "\n",
        "Como el valor del estadístico de contraste cae en la región crítica y el p-valor es menor que el nivel de significancia (0.05), rechazamos la hipótesis nula. Por lo tanto, hay evidencia suficiente para afirmar que la proporción de mujeres que son 'Software Engineer' es menor que la proporción de hombres que son 'Software Engineer'."
      ],
      "metadata": {
        "id": "6wYI6VYNt-3Z"
      }
    },
    {
      "cell_type": "markdown",
      "source": [
        "### 6)"
      ],
      "metadata": {
        "id": "Gcd25jUtyb--"
      }
    },
    {
      "cell_type": "markdown",
      "source": [
        "Hipótesis nula (H0): La proporción de mujeres con educación superior es mayor o igual a 0.5.\n",
        "\n",
        "Hipótesis alternativa (H1): La proporción de mujeres con educación superior es menor a 0.5."
      ],
      "metadata": {
        "id": "EYkTTLV0wey-"
      }
    },
    {
      "cell_type": "code",
      "source": [
        "df_edu = df_salario[df_salario['Education Level'].isin(['Bachelor\\'s Degree', 'Master\\'s Degree', 'PhD'])]\n",
        "\n",
        "# Dividir el DataFrame filtrado en mujeres\n",
        "df_mujerr = df_edu[df_edu['Gender'] == 'Female']\n",
        "\n",
        "# Calcular la proporción\n",
        "prop_mujer = len(df_mujerr) / len(df_edu)\n",
        "\n",
        "# Realizar la prueba de hipótesis\n",
        "contraste, region_critica, p_value = contraste_1prop(len(df_edu), prop_mujer, 0.5, 0.05, alternativa='1<0')\n",
        "\n",
        "# Imprimir los resultados\n",
        "print('Estadístico de contraste:', contraste)\n",
        "print('Región crítica:', region_critica)\n",
        "print('p-valor:', p_value)"
      ],
      "metadata": {
        "id": "hDxTtWqwyrRA",
        "colab": {
          "base_uri": "https://localhost:8080/"
        },
        "outputId": "48b55fb4-219c-4723-b463-2fbbd5c4f00d"
      },
      "execution_count": null,
      "outputs": [
        {
          "output_type": "stream",
          "name": "stdout",
          "text": [
            "Estadístico de contraste: -8.979238726673833\n",
            "Región crítica: [Interval(-inf, -1.6448536269514729, closed='neither')]\n",
            "p-valor: 1.3632331046119516e-19\n"
          ]
        }
      ]
    },
    {
      "cell_type": "markdown",
      "source": [
        "Dado que el valor del estadístico de contraste está en la región crítica y el p-valor (1.3632331046119516e-19) es menor que el nivel de significancia (0.05), rechazamos la hipótesis nula. Esto sugiere que la proporción de mujeres con educación superior es significativamente menor a 0.5.\n",
        "\n",
        "Por lo tanto, los resultados apoyan la idea de que existe una brecha de género en las personas con educación superior."
      ],
      "metadata": {
        "id": "4JoLv8yew0gD"
      }
    }
  ]
}