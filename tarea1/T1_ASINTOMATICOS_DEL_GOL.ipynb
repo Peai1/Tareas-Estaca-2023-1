{
  "cells": [
    {
      "cell_type": "markdown",
      "metadata": {
        "id": "tmYW065Z_f9o"
      },
      "source": [
        "<h1 align='center'> INF-280 Estadística Computacional 2023-1 </h1>\n",
        "\n",
        "<H3 align='center'> Tema 1 - Análisis Exploratorio de Datos  </H3>"
      ]
    },
    {
      "cell_type": "markdown",
      "metadata": {
        "id": "U_Kcum82_l-Y"
      },
      "source": [
        "### **Datos del grupo**\n"
      ]
    },
    {
      "cell_type": "markdown",
      "metadata": {
        "id": "7-TbhM_FAEy5"
      },
      "source": [
        "\n",
        " Nombre del grupo: ASINTOMATICOS DEL GOL\n",
        "\n",
        "*   Benjamin Lopez - 202173533-k - [video](https://www.youtube.com/watch?v=FDGQrC8LxYg&ab_channel=BenjaminLopez)\n",
        "*   Felipe León - 202173598-4 - [video](https://www.youtube.com/watch?v=0GmKFfSK5wc&ab_channel=FelipeLeon)\n",
        "*   Fernardo Salgado - 202173580-1 - [video](https://www.youtube.com/watch?v=UAScjhPl8MA)\n",
        "\n",
        "*Recuerden que si su grupo se llama \"Llamado de emergencia\", entonces el nombre del archivo debe ser T1_Llamado_de_emergencia.ipynb*"
      ]
    },
    {
      "cell_type": "markdown",
      "metadata": {
        "id": "IQ1c3H_F_KG6"
      },
      "source": [
        "### **Formalidades**  "
      ]
    },
    {
      "cell_type": "markdown",
      "metadata": {
        "id": "yC57mWJWA6Ij"
      },
      "source": [
        "* Es posible utilizar apuntes, libros, papers, ejemplos y cualquier otro material que desee de internet, pero deben ser ustedes quienes desarrollen los ejercicios y comenten los resultados en el Notebook que entregará. \n",
        "* Se permite el uso de las librerías: pandas, numpy, matplotlib y seaborn. Si desea utilizar otra librería debe indicar cómo instalarla.\n",
        "* Se debe trabajar en grupos de **dos o tres personas**.\n",
        "* Además del Notebook, deberán entregar un video explicando lo que hizo, paso a paso, como en los ejemplos entregados en AULA. Este vídeo es **individual**, es decir, cada integrante debe hacerlo por separado (debiendo utilizar el mismo Jupyter Notebook). El video puede ser subido a una plataforma externa como Youtube, Google Drive, ó Dropbox. El **link a compartir** (*visible para cualquier usuario con el link*) debe ir dentro del Notebook.\n",
        "* La nota de esta actividad es grupal."
      ]
    },
    {
      "cell_type": "markdown",
      "metadata": {
        "id": "kWc7BARoDtQJ"
      },
      "source": [
        "### **Descuentos**"
      ]
    },
    {
      "cell_type": "markdown",
      "metadata": {
        "id": "v0V1nMBHDvLU"
      },
      "source": [
        "* Se descontarán 5 puntos si el nombre del archivo subido no sigue el formato indicado.\n",
        "* Se descontarán 5 puntos por cada hora de atraso en la entrega.\n",
        "* Se descontarán 3 puntos por cada gráfico que no incluya los nombres de los ejes.\n",
        "* **Se descontarán hasta 20 puntos por no utilizar la librería pandas** para manipular y analizar los dataframes. Por ejemplo, está penalizado realizar un ciclo `for` para recorrer un dataframe. En su lugar, **deben utilizar las funciones y métodos de pandas** específicamente diseñados para operar con dataframes.\n",
        "\n",
        "    **Ejemplo:**\n",
        "\n",
        "    Si tenemos una columna (ColumnaDeInteres) de un dataframe (df) y queremos obtener la frecuencia de cada valor único en la columna, entonces:\n",
        "```\n",
        "    #El siguiente código recibiría una penalización por utilizar un ciclo for para recorrer un dataframe\n",
        "    frecuencias = {}\n",
        "    for valor in df['ColumnaDeInteres']:\n",
        "        if valor in frecuencias:\n",
        "            frecuencias[valor] += 1\n",
        "        else:\n",
        "            frecuencias[valor] = 1\n",
        "\n",
        "    #En su lugar, podemos hacer lo mismo (y más rápido) de la siguiente manera:\n",
        "\n",
        "    frecuencias = df['ColumnaDeInteres'].value_counts()\n",
        "```"
      ]
    },
    {
      "cell_type": "markdown",
      "metadata": {
        "id": "Qisu3zwrA1ll"
      },
      "source": [
        "### **Entrega** "
      ]
    },
    {
      "cell_type": "markdown",
      "metadata": {
        "id": "uxFLlu2OA_5b"
      },
      "source": [
        "* **Formato**: Se debe realizar una **única** entrega por grupo (un representate del grupo) a través de  __[**Aula**](https://aula.usm.cl/)__.\n",
        "* **Archivo**: \n",
        "\n",
        "    *   El nombre del archivo a subir debe ser **T1_Nombre_Del_Equipo.ipynb**, por ejemplo, si su equipo se llama \"Llamado de emergencia\", entonces el nombre del archivo debe ser **T1_Llamado_de_emergencia.ipynb**\n",
        "    *   El Jupyter Notebook debe incluir **todos links** a los vídeos explicativos, uno por cada integrante.\n",
        "    *   Cada video debe tener una **duracióm máxima de 15 minutos**.\n",
        "* **Fecha límite**: Domingo 2 de Abril hasta las 23:59."
      ]
    },
    {
      "cell_type": "markdown",
      "metadata": {
        "id": "RwELncd0C2nx"
      },
      "source": [
        "<table align='left'>\n",
        "<tr>\n",
        "<td><img src='https://www.xtrafondos.com/wallpapers/resoluciones/19/casa-kame-de-dragon-ball_2560x1440_3963.jpg' width='720'/> </td>\n",
        "</tr>"
      ]
    },
    {
      "cell_type": "markdown",
      "metadata": {
        "id": "LdKfR503C7V1"
      },
      "source": [
        "## Contexto"
      ]
    },
    {
      "cell_type": "markdown",
      "metadata": {
        "id": "dZeZNz-CKBuZ"
      },
      "source": [
        "MyAnimeList, también conocido como MAL, es una aplicación web que se dedica a la información sobre anime, manga y novelas ligeras. Esta aplicación es muy popular entre los fans de anime y manga, ya que les permite buscar, leer reseñas y calificar las series y películas de anime, así como crear listas de seguimiento de sus títulos favoritos.\n",
        "\n",
        "Debido a la gran cantidad de datos que MyAnimeList posee sobre sus usuarios y animes, se le ha solicitado a su grupo que realice una serie de tareas para ayudar a la plataforma a analizar estos datos. Uno de los objetivos principales es identificar el público que más visualiza animes en la plataforma, enfocándonos en su género, edad y cantidad de horas viendo anime.\n",
        "\n",
        "Además, también se les ha pedido realizar un análisis de datos de animes. Esta tarea puede ayudar a identificar los animes más vistos, mejor calificados, más nuevos, entre otros aspectos. Estos datos pueden ser utilizados para crear secciones en la página web de MyAnimeList que muestren esta información, permitiendo a los usuarios conocer los animes más populares y recientes en el sitio.\n",
        "\n",
        "En este taller se trabajaran con los siguientes dataset:\n",
        "\n",
        "* `users.csv`\n",
        "\n",
        "    Contiene información acerca de los usuarios, incluyendo su género, animes completados, animes actualmente viendo, fecha de nacimiento, días viendo anime, entre otros.\n",
        "\n",
        "* `animes.csv`\n",
        "\n",
        "    Contiene información de los animes, incluyendo su título, género, estudio, duration, rating, source (manga, novela ligera, etc), entre otros. \n"
      ]
    },
    {
      "cell_type": "markdown",
      "metadata": {
        "id": "kwPQzDn_JX1I"
      },
      "source": [
        "## Preguntas"
      ]
    },
    {
      "cell_type": "markdown",
      "metadata": {
        "id": "7g1FXAkkJZ6H"
      },
      "source": [
        "Respecto de `users.csv`:\n",
        "\n",
        "1. **(5 pts)** Construya un gráfico de barras para comparar la cantidad de usuarios según género. ¿De qué género son la mayoría de usuarios? \n",
        "2. **(15 pts)** Compare las edades de los usuarios según género utilizando un único boxplot. Realice al menos 3 conclusiones. \n",
        "3. **(10 pts)** Compare la cantidad de `user_days_spent_watching` según género utilizando un único boxplot. Realice al menos 3 conclusiones. \n",
        "4. **(15 pts)** ¿Como cambia su respuesta anterior si, para cada género, se excluye al 5% que más días visualizados tienen y al 5% que menos días visualizados tienen? Realice al menos 3 conclusiones.\n",
        "\n",
        "Respecto de `animes.csv`:\n",
        "\n",
        "5. **(7,5 pts)** Considerando solo las series de anime adaptadas desde un manga (`Type == 'TV'` & `Source == 'Manga'`), ¿Cuáles son las 10 series de anime mejor calificadas (utilice `Score`)? Indique el nombre en ingles (`English name`) y su calificación (`Score`). \n",
        "6. **(7,5 pts)** Considerando solo las series de anime adaptadas desde un manga (`Type == 'TV'` & `Source == 'Manga'`), ¿Cuáles son las 10 series de anime que más veces han sido agregadas a Favoritas (`Favorites`) por los usuarios? Indique el nombre en ingles (`English name`) y su calificación (`Score`). \n",
        "7. **(20 pts)** ¿Cuáles son los 5 géneros (`Genres`) más populares de las series de anime adaptadas desde un Manga (`Type == 'TV'` & `Source == 'Manga'`)? **IMPORTANTE:** Note que si una serie tiene más de un género, entonces todos estos géneros son almacenados como un único valor (separado por comas) en el campo `Genres`. Además, note que luego de una coma podría existir un espacio en blanco, lo que podría provocar que un mismo género aparezca 2 veces, una sin un espacio en blanco al principio y otra con un espacio en blanco al principio. \n",
        "8. **(10 pts)** Compare mediante un histograma la calificación (`Score`) de las series de anime (`Type == 'TV'` & `Source == 'Manga'`) de los generos `Genres = Seinen` y `Genres = Shounen`. ¿Qué se puede concluir? \n",
        "9. **(10 pts)** Cree la función `Recomendar_TopN(genero: str, n: int)`, la cual:\n",
        "    * Recibe un único género (`genero`) y un número (`n`).\n",
        "    * Obtiene los `n` mejores animes (según `score`) que sean de `genre = genero`\n",
        "    * Retorna un dataframe con los campos Rank, Title y Score. Donde Rank va desde 1 hasta n (los `n` mejores animes).\n",
        "\n",
        " >Ejecute su función utilizando `genero = Comedy` y `n = 10` y muestre por pantalla el dataframe.\n",
        "\n",
        "\n",
        "**BONUS**:\n",
        "\n",
        "10. **(10 pts)** Cree la función `Recomendar_TopN_multi(list_generos: list, n: int)`, la cual:\n",
        "    * Recibe una lista de géneros (`list_generos`) y un número (`n`).\n",
        "    * Obtiene los `n` mejores animes (según `score`) que contengan **todos** los generos de la lista `list_generos`. En caso de que no existan suficientes animes que cumplan con los géneros pedidos, entonces se deben retornar solo aquellos que si cumplan lo pedido. \n",
        "    * Retorna un dataframe con los campos Rank, Title y Score. Donde Rank va desde 1 hasta n (los `n` mejores animes).\n",
        "\n",
        " >Ejecute su función para `list_generos = [Comedy, Shounen]` y `n = 10` y muestre por pantalla el dataframe."
      ]
    },
    {
      "cell_type": "markdown",
      "metadata": {
        "id": "0-u6cMQeKEqm"
      },
      "source": [
        "## Librerías"
      ]
    },
    {
      "cell_type": "code",
      "execution_count": 1,
      "metadata": {
        "id": "yHdIzA79KIJ6"
      },
      "outputs": [],
      "source": [
        "import pandas as pd\n",
        "import numpy as np\n",
        "import seaborn as sns; sns.set()\n",
        "import matplotlib.pyplot as plt\n",
        "import warnings\n",
        "import datetime as DT\n",
        "import re\n",
        "warnings.filterwarnings(\"ignore\")"
      ]
    },
    {
      "cell_type": "markdown",
      "metadata": {
        "id": "skLaXDoXKUhZ"
      },
      "source": [
        "## Lectura de Datos"
      ]
    },
    {
      "cell_type": "code",
      "execution_count": 2,
      "metadata": {
        "id": "mmwiOEQ-KSwH"
      },
      "outputs": [],
      "source": [
        "df_users  = pd.read_csv('https://drive.google.com/uc?id=1Zm4lUmigUnPk4yooFqDSVRw0d_fqqWTx')\n",
        "df_animes = pd.read_csv('https://drive.google.com/uc?id=1dkFdmxmEF9VB-BAdZbnSIFOONU8yPkHW')"
      ]
    },
    {
      "cell_type": "markdown",
      "metadata": {
        "id": "f5Ww5U98yEA4"
      },
      "source": []
    },
    {
      "cell_type": "markdown",
      "metadata": {
        "id": "tGu6a0XxjD6C"
      },
      "source": [
        "## Desarrollo"
      ]
    },
    {
      "cell_type": "markdown",
      "metadata": {
        "id": "3J5zmxV-jxL-"
      },
      "source": [
        "### 1)"
      ]
    },
    {
      "cell_type": "markdown",
      "metadata": {
        "id": "2vNN8Qxbz51D"
      },
      "source": [
        "Haciendo uso de la funcion .value_counts(), lo aplicamos a la columna \"gender\" para obtener los valores unicos y asi realizar un grafico de la cantidad de usuarios segun genero."
      ]
    },
    {
      "cell_type": "code",
      "execution_count": 3,
      "metadata": {
        "colab": {
          "base_uri": "https://localhost:8080/",
          "height": 352
        },
        "id": "ZiVPta-8Qh54",
        "outputId": "249403c5-bbb4-4411-b6f3-cbfc18f97601"
      },
      "outputs": [
        {
          "data": {
            "image/png": "[encoded data removed]",
            "text/plain": [
              "<Figure size 640x480 with 1 Axes>"
            ]
          },
          "metadata": {},
          "output_type": "display_data"
        }
      ],
      "source": [
        "graf = df_users[\"gender\"].value_counts()\n",
        "\n",
        "graf.plot(kind=\"bar\")\n",
        "\n",
        "plt.title(\"Cantidad de usuarios según género\")\n",
        "plt.xlabel(\"Género\")\n",
        "plt.ylabel(\"Cantidad de usuarios\")\n",
        "plt.show()"
      ]
    },
    {
      "cell_type": "markdown",
      "metadata": {
        "id": "qNyv9ju3tM-K"
      },
      "source": [
        "Se puede observar del grafico que la mayoria de usuarios que ven anime es del genero \"Male\"."
      ]
    },
    {
      "cell_type": "markdown",
      "metadata": {
        "id": "geTNdpB-rHR5"
      },
      "source": [
        "### 2)"
      ]
    },
    {
      "cell_type": "markdown",
      "metadata": {
        "id": "i6Htfn0O1gx6"
      },
      "source": [
        "Ya que el dataset no incluye una columna con las edades de los usuarios, podemos obtener esta variable haciendo uso de la columna \"birth_date\".\n",
        "Con la libreria datetime, la cual se importa con las demas librerias utilizadas, podemos fijar la fecha de hoy en la variable \"hoy\" y asi restarla con la fecha de nacimiento de cada usuario, de donde se creara una nueva columna en el dataset correspondiente a la edad."
      ]
    },
    {
      "cell_type": "code",
      "execution_count": 4,
      "metadata": {
        "colab": {
          "base_uri": "https://localhost:8080/",
          "height": 301
        },
        "id": "QrZj9kujzPK4",
        "outputId": "3fb20953-a90d-477e-8549-2e1dcedd4537"
      },
      "outputs": [
        {
          "ename": "ValueError",
          "evalue": "Cannot convert from timedelta64[ns] to timedelta64[Y]. Supported resolutions are 's', 'ms', 'us', 'ns'",
          "output_type": "error",
          "traceback": [
            "\u001b[1;31m---------------------------------------------------------------------------\u001b[0m",
            "\u001b[1;31mValueError\u001b[0m                                Traceback (most recent call last)",
            "Cell \u001b[1;32mIn[4], line 3\u001b[0m\n\u001b[0;32m      1\u001b[0m hoy \u001b[39m=\u001b[39m pd\u001b[39m.\u001b[39mTimestamp(\u001b[39m\"\u001b[39m\u001b[39mnow\u001b[39m\u001b[39m\"\u001b[39m)\n\u001b[0;32m      2\u001b[0m df_users[\u001b[39m\"\u001b[39m\u001b[39mbirth_date\u001b[39m\u001b[39m\"\u001b[39m] \u001b[39m=\u001b[39m pd\u001b[39m.\u001b[39mto_datetime(df_users[\u001b[39m\"\u001b[39m\u001b[39mbirth_date\u001b[39m\u001b[39m\"\u001b[39m])\n\u001b[1;32m----> 3\u001b[0m df_users[\u001b[39m\"\u001b[39m\u001b[39mage\u001b[39m\u001b[39m\"\u001b[39m] \u001b[39m=\u001b[39m (hoy \u001b[39m-\u001b[39;49m df_users[\u001b[39m\"\u001b[39;49m\u001b[39mbirth_date\u001b[39;49m\u001b[39m\"\u001b[39;49m])\u001b[39m.\u001b[39;49mastype(\u001b[39m\"\u001b[39;49m\u001b[39m<m8[Y]\u001b[39;49m\u001b[39m\"\u001b[39;49m)\n\u001b[0;32m      5\u001b[0m masculino \u001b[39m=\u001b[39m df_users\u001b[39m.\u001b[39mloc[df_users[\u001b[39m\"\u001b[39m\u001b[39mgender\u001b[39m\u001b[39m\"\u001b[39m] \u001b[39m==\u001b[39m \u001b[39m\"\u001b[39m\u001b[39mMale\u001b[39m\u001b[39m\"\u001b[39m][\u001b[39m\"\u001b[39m\u001b[39mage\u001b[39m\u001b[39m\"\u001b[39m]\n\u001b[0;32m      6\u001b[0m femenino  \u001b[39m=\u001b[39m df_users\u001b[39m.\u001b[39mloc[df_users[\u001b[39m\"\u001b[39m\u001b[39mgender\u001b[39m\u001b[39m\"\u001b[39m] \u001b[39m==\u001b[39m \u001b[39m\"\u001b[39m\u001b[39mFemale\u001b[39m\u001b[39m\"\u001b[39m][\u001b[39m\"\u001b[39m\u001b[39mage\u001b[39m\u001b[39m\"\u001b[39m]\n",
            "File \u001b[1;32mc:\\Users\\Felipe\\AppData\\Local\\Programs\\Python\\Python311\\Lib\\site-packages\\pandas\\core\\generic.py:6324\u001b[0m, in \u001b[0;36mNDFrame.astype\u001b[1;34m(self, dtype, copy, errors)\u001b[0m\n\u001b[0;32m   6317\u001b[0m     results \u001b[39m=\u001b[39m [\n\u001b[0;32m   6318\u001b[0m         \u001b[39mself\u001b[39m\u001b[39m.\u001b[39miloc[:, i]\u001b[39m.\u001b[39mastype(dtype, copy\u001b[39m=\u001b[39mcopy)\n\u001b[0;32m   6319\u001b[0m         \u001b[39mfor\u001b[39;00m i \u001b[39min\u001b[39;00m \u001b[39mrange\u001b[39m(\u001b[39mlen\u001b[39m(\u001b[39mself\u001b[39m\u001b[39m.\u001b[39mcolumns))\n\u001b[0;32m   6320\u001b[0m     ]\n\u001b[0;32m   6322\u001b[0m \u001b[39melse\u001b[39;00m:\n\u001b[0;32m   6323\u001b[0m     \u001b[39m# else, only a single dtype is given\u001b[39;00m\n\u001b[1;32m-> 6324\u001b[0m     new_data \u001b[39m=\u001b[39m \u001b[39mself\u001b[39;49m\u001b[39m.\u001b[39;49m_mgr\u001b[39m.\u001b[39;49mastype(dtype\u001b[39m=\u001b[39;49mdtype, copy\u001b[39m=\u001b[39;49mcopy, errors\u001b[39m=\u001b[39;49merrors)\n\u001b[0;32m   6325\u001b[0m     \u001b[39mreturn\u001b[39;00m \u001b[39mself\u001b[39m\u001b[39m.\u001b[39m_constructor(new_data)\u001b[39m.\u001b[39m__finalize__(\u001b[39mself\u001b[39m, method\u001b[39m=\u001b[39m\u001b[39m\"\u001b[39m\u001b[39mastype\u001b[39m\u001b[39m\"\u001b[39m)\n\u001b[0;32m   6327\u001b[0m \u001b[39m# GH 33113: handle empty frame or series\u001b[39;00m\n",
            "File \u001b[1;32mc:\\Users\\Felipe\\AppData\\Local\\Programs\\Python\\Python311\\Lib\\site-packages\\pandas\\core\\internals\\managers.py:451\u001b[0m, in \u001b[0;36mBaseBlockManager.astype\u001b[1;34m(self, dtype, copy, errors)\u001b[0m\n\u001b[0;32m    448\u001b[0m \u001b[39melif\u001b[39;00m using_copy_on_write():\n\u001b[0;32m    449\u001b[0m     copy \u001b[39m=\u001b[39m \u001b[39mFalse\u001b[39;00m\n\u001b[1;32m--> 451\u001b[0m \u001b[39mreturn\u001b[39;00m \u001b[39mself\u001b[39;49m\u001b[39m.\u001b[39;49mapply(\n\u001b[0;32m    452\u001b[0m     \u001b[39m\"\u001b[39;49m\u001b[39mastype\u001b[39;49m\u001b[39m\"\u001b[39;49m,\n\u001b[0;32m    453\u001b[0m     dtype\u001b[39m=\u001b[39;49mdtype,\n\u001b[0;32m    454\u001b[0m     copy\u001b[39m=\u001b[39;49mcopy,\n\u001b[0;32m    455\u001b[0m     errors\u001b[39m=\u001b[39;49merrors,\n\u001b[0;32m    456\u001b[0m     using_cow\u001b[39m=\u001b[39;49musing_copy_on_write(),\n\u001b[0;32m    457\u001b[0m )\n",
            "File \u001b[1;32mc:\\Users\\Felipe\\AppData\\Local\\Programs\\Python\\Python311\\Lib\\site-packages\\pandas\\core\\internals\\managers.py:352\u001b[0m, in \u001b[0;36mBaseBlockManager.apply\u001b[1;34m(self, f, align_keys, **kwargs)\u001b[0m\n\u001b[0;32m    350\u001b[0m         applied \u001b[39m=\u001b[39m b\u001b[39m.\u001b[39mapply(f, \u001b[39m*\u001b[39m\u001b[39m*\u001b[39mkwargs)\n\u001b[0;32m    351\u001b[0m     \u001b[39melse\u001b[39;00m:\n\u001b[1;32m--> 352\u001b[0m         applied \u001b[39m=\u001b[39m \u001b[39mgetattr\u001b[39;49m(b, f)(\u001b[39m*\u001b[39;49m\u001b[39m*\u001b[39;49mkwargs)\n\u001b[0;32m    353\u001b[0m     result_blocks \u001b[39m=\u001b[39m extend_blocks(applied, result_blocks)\n\u001b[0;32m    355\u001b[0m out \u001b[39m=\u001b[39m \u001b[39mtype\u001b[39m(\u001b[39mself\u001b[39m)\u001b[39m.\u001b[39mfrom_blocks(result_blocks, \u001b[39mself\u001b[39m\u001b[39m.\u001b[39maxes)\n",
            "File \u001b[1;32mc:\\Users\\Felipe\\AppData\\Local\\Programs\\Python\\Python311\\Lib\\site-packages\\pandas\\core\\internals\\blocks.py:511\u001b[0m, in \u001b[0;36mBlock.astype\u001b[1;34m(self, dtype, copy, errors, using_cow)\u001b[0m\n\u001b[0;32m    491\u001b[0m \u001b[39m\u001b[39m\u001b[39m\"\"\"\u001b[39;00m\n\u001b[0;32m    492\u001b[0m \u001b[39mCoerce to the new dtype.\u001b[39;00m\n\u001b[0;32m    493\u001b[0m \n\u001b[1;32m   (...)\u001b[0m\n\u001b[0;32m    507\u001b[0m \u001b[39mBlock\u001b[39;00m\n\u001b[0;32m    508\u001b[0m \u001b[39m\"\"\"\u001b[39;00m\n\u001b[0;32m    509\u001b[0m values \u001b[39m=\u001b[39m \u001b[39mself\u001b[39m\u001b[39m.\u001b[39mvalues\n\u001b[1;32m--> 511\u001b[0m new_values \u001b[39m=\u001b[39m astype_array_safe(values, dtype, copy\u001b[39m=\u001b[39;49mcopy, errors\u001b[39m=\u001b[39;49merrors)\n\u001b[0;32m    513\u001b[0m new_values \u001b[39m=\u001b[39m maybe_coerce_values(new_values)\n\u001b[0;32m    515\u001b[0m refs \u001b[39m=\u001b[39m \u001b[39mNone\u001b[39;00m\n",
            "File \u001b[1;32mc:\\Users\\Felipe\\AppData\\Local\\Programs\\Python\\Python311\\Lib\\site-packages\\pandas\\core\\dtypes\\astype.py:242\u001b[0m, in \u001b[0;36mastype_array_safe\u001b[1;34m(values, dtype, copy, errors)\u001b[0m\n\u001b[0;32m    239\u001b[0m     dtype \u001b[39m=\u001b[39m dtype\u001b[39m.\u001b[39mnumpy_dtype\n\u001b[0;32m    241\u001b[0m \u001b[39mtry\u001b[39;00m:\n\u001b[1;32m--> 242\u001b[0m     new_values \u001b[39m=\u001b[39m astype_array(values, dtype, copy\u001b[39m=\u001b[39;49mcopy)\n\u001b[0;32m    243\u001b[0m \u001b[39mexcept\u001b[39;00m (\u001b[39mValueError\u001b[39;00m, \u001b[39mTypeError\u001b[39;00m):\n\u001b[0;32m    244\u001b[0m     \u001b[39m# e.g. _astype_nansafe can fail on object-dtype of strings\u001b[39;00m\n\u001b[0;32m    245\u001b[0m     \u001b[39m#  trying to convert to float\u001b[39;00m\n\u001b[0;32m    246\u001b[0m     \u001b[39mif\u001b[39;00m errors \u001b[39m==\u001b[39m \u001b[39m\"\u001b[39m\u001b[39mignore\u001b[39m\u001b[39m\"\u001b[39m:\n",
            "File \u001b[1;32mc:\\Users\\Felipe\\AppData\\Local\\Programs\\Python\\Python311\\Lib\\site-packages\\pandas\\core\\dtypes\\astype.py:184\u001b[0m, in \u001b[0;36mastype_array\u001b[1;34m(values, dtype, copy)\u001b[0m\n\u001b[0;32m    180\u001b[0m     \u001b[39mreturn\u001b[39;00m values\n\u001b[0;32m    182\u001b[0m \u001b[39mif\u001b[39;00m \u001b[39mnot\u001b[39;00m \u001b[39misinstance\u001b[39m(values, np\u001b[39m.\u001b[39mndarray):\n\u001b[0;32m    183\u001b[0m     \u001b[39m# i.e. ExtensionArray\u001b[39;00m\n\u001b[1;32m--> 184\u001b[0m     values \u001b[39m=\u001b[39m values\u001b[39m.\u001b[39;49mastype(dtype, copy\u001b[39m=\u001b[39;49mcopy)\n\u001b[0;32m    186\u001b[0m \u001b[39melse\u001b[39;00m:\n\u001b[0;32m    187\u001b[0m     values \u001b[39m=\u001b[39m _astype_nansafe(values, dtype, copy\u001b[39m=\u001b[39mcopy)\n",
            "File \u001b[1;32mc:\\Users\\Felipe\\AppData\\Local\\Programs\\Python\\Python311\\Lib\\site-packages\\pandas\\core\\arrays\\timedeltas.py:354\u001b[0m, in \u001b[0;36mTimedeltaArray.astype\u001b[1;34m(self, dtype, copy)\u001b[0m\n\u001b[0;32m    350\u001b[0m         \u001b[39mreturn\u001b[39;00m \u001b[39mtype\u001b[39m(\u001b[39mself\u001b[39m)\u001b[39m.\u001b[39m_simple_new(\n\u001b[0;32m    351\u001b[0m             res_values, dtype\u001b[39m=\u001b[39mres_values\u001b[39m.\u001b[39mdtype, freq\u001b[39m=\u001b[39m\u001b[39mself\u001b[39m\u001b[39m.\u001b[39mfreq\n\u001b[0;32m    352\u001b[0m         )\n\u001b[0;32m    353\u001b[0m     \u001b[39melse\u001b[39;00m:\n\u001b[1;32m--> 354\u001b[0m         \u001b[39mraise\u001b[39;00m \u001b[39mValueError\u001b[39;00m(\n\u001b[0;32m    355\u001b[0m             \u001b[39mf\u001b[39m\u001b[39m\"\u001b[39m\u001b[39mCannot convert from \u001b[39m\u001b[39m{\u001b[39;00m\u001b[39mself\u001b[39m\u001b[39m.\u001b[39mdtype\u001b[39m}\u001b[39;00m\u001b[39m to \u001b[39m\u001b[39m{\u001b[39;00mdtype\u001b[39m}\u001b[39;00m\u001b[39m. \u001b[39m\u001b[39m\"\u001b[39m\n\u001b[0;32m    356\u001b[0m             \u001b[39m\"\u001b[39m\u001b[39mSupported resolutions are \u001b[39m\u001b[39m'\u001b[39m\u001b[39ms\u001b[39m\u001b[39m'\u001b[39m\u001b[39m, \u001b[39m\u001b[39m'\u001b[39m\u001b[39mms\u001b[39m\u001b[39m'\u001b[39m\u001b[39m, \u001b[39m\u001b[39m'\u001b[39m\u001b[39mus\u001b[39m\u001b[39m'\u001b[39m\u001b[39m, \u001b[39m\u001b[39m'\u001b[39m\u001b[39mns\u001b[39m\u001b[39m'\u001b[39m\u001b[39m\"\u001b[39m\n\u001b[0;32m    357\u001b[0m         )\n\u001b[0;32m    359\u001b[0m \u001b[39mreturn\u001b[39;00m dtl\u001b[39m.\u001b[39mDatetimeLikeArrayMixin\u001b[39m.\u001b[39mastype(\u001b[39mself\u001b[39m, dtype, copy\u001b[39m=\u001b[39mcopy)\n",
            "\u001b[1;31mValueError\u001b[0m: Cannot convert from timedelta64[ns] to timedelta64[Y]. Supported resolutions are 's', 'ms', 'us', 'ns'"
          ]
        }
      ],
      "source": [
        "hoy = pd.Timestamp(\"now\")\n",
        "df_users[\"birth_date\"] = pd.to_datetime(df_users[\"birth_date\"])\n",
        "df_users[\"age\"] = (hoy - df_users[\"birth_date\"]).astype(\"<m8[Y]\")\n",
        "\n",
        "masculino = df_users.loc[df_users[\"gender\"] == \"Male\"][\"age\"]\n",
        "femenino  = df_users.loc[df_users[\"gender\"] == \"Female\"][\"age\"]\n",
        "no_binario = df_users.loc[df_users[\"gender\"] == \"Non-Binary\"][\"age\"]\n",
        "\n",
        "plt.boxplot([masculino,femenino,no_binario])\n",
        "\n",
        "plt.title(\"Edades de usuarios según género\")\n",
        "plt.xlabel(\"Género\")\n",
        "plt.ylabel(\"Edad\")\n",
        "plt.xticks([1, 2, 3], [\"Masculino\", \"Femenino\", \"No Binario\"])\n",
        "plt.show()"
      ]
    },
    {
      "cell_type": "markdown",
      "metadata": {
        "id": "DxDGhcpwtkas"
      },
      "source": [
        "Del boxplot se puede concluir lo siguiente:\n",
        "\n",
        "1.   No existen usuarios de genero \"No Binario\" menores de 15 años, aunque la mayor concentración de estos son de menor edad que para los generos \"Masculinos\" y \"Femeninos\".\n",
        "2.   Tanto para el genero \"Masculino\" como \"Femenino\" el 50% de la muestra se encuentra aproximadamente entre los 26 y 33 años. Además, la linea roja que corresponde a la mediana tiene un valor muy similar.\n",
        "3.  En general, se presentan bastantes valores atípicos, principalmente en los generos \"Masculino\" y \"Femenino\", aunque ninguno de estos valores supera los 55 años de Edad. La presencia de valores atipicos se puede presentar debido al gran tamaño de la muestra y que la mayoria de usuarios que ven anime no sobrepasan los 40 años, observando que personas que superan esta edad son muy pocas.\n",
        "\n",
        "\n",
        "\n",
        "\n"
      ]
    },
    {
      "cell_type": "markdown",
      "metadata": {
        "id": "r7Fiq16HzZpM"
      },
      "source": [
        "### 3)"
      ]
    },
    {
      "cell_type": "markdown",
      "metadata": {
        "id": "3Wbu2SuJ2eU0"
      },
      "source": [
        "Para resolver esta pregunta, hacemos uso del metodo .loc(), para dividir los \"user_days_spent_watching\" en tres datasets correspondientes a cada genero."
      ]
    },
    {
      "cell_type": "code",
      "execution_count": null,
      "metadata": {
        "colab": {
          "base_uri": "https://localhost:8080/",
          "height": 301
        },
        "id": "DNgw8MfXQisN",
        "outputId": "319aed51-cb05-4e04-8f4d-588f1e5bdbe2"
      },
      "outputs": [
        {
          "data": {
            "image/png": "[encoded data removed]",
            "text/plain": [
              "<Figure size 432x288 with 1 Axes>"
            ]
          },
          "metadata": {},
          "output_type": "display_data"
        }
      ],
      "source": [
        "masculino = df_users.loc[df_users[\"gender\"] == \"Male\"][\"user_days_spent_watching\"]\n",
        "femenino  = df_users.loc[df_users[\"gender\"] == \"Female\"][\"user_days_spent_watching\"]\n",
        "no_binario = df_users.loc[df_users[\"gender\"] == \"Non-Binary\"][\"user_days_spent_watching\"]\n",
        "\n",
        "plt.boxplot([masculino,femenino,no_binario])\n",
        "\n",
        "plt.title(\"Días viendo anime según género\")\n",
        "plt.xlabel(\"Género\")\n",
        "plt.ylabel(\"Días\")\n",
        "plt.xticks([1, 2, 3], [\"Masculino\",\"Femenino\", \"No Binario\"])\n",
        "plt.show()"
      ]
    },
    {
      "cell_type": "markdown",
      "metadata": {
        "id": "Ox98t7IvwG88"
      },
      "source": [
        "Del Boxplot se puede concluir lo siguiente:\n",
        "\n",
        "1.   La gran mayoría de los usuarios de cada genero se han visto menos de 200 días de anime, ya que es el valor maximo que se puede observar en el bigote de los tres boxplot, son algunos valores atipicos los que superan estos dias.\n",
        "2.   Tan solo 2 personas del genero \"Femenino\" han visto mas de 800 días anime. Además, en general consumen menos anime dado que su limite superior del boxplot es menor a la de los demás generos.\n",
        "3.   Los usuarios del genero \"Masculino\" tienen mas dias viendo anime, tanto su limite superior como los valores atípicos son mas altos que en los otros generos.\n",
        "\n",
        "\n",
        "\n"
      ]
    },
    {
      "cell_type": "markdown",
      "metadata": {
        "id": "yzqXWSd7zb54"
      },
      "source": [
        "### 4)"
      ]
    },
    {
      "cell_type": "markdown",
      "metadata": {
        "id": "AJXwLIXf4DVZ"
      },
      "source": [
        "En este caso, nos sirve de utilidad conocer el percentil 5 y 95 de user_days_spent_watching para luego filtrar el dataset y excluir el 5% que más días visualizados tienen y al 5% que menos días visualizados tienen"
      ]
    },
    {
      "cell_type": "code",
      "execution_count": 8,
      "metadata": {
        "colab": {
          "base_uri": "https://localhost:8080/",
          "height": 301
        },
        "id": "V5hNzzDUQhdG",
        "outputId": "b5366eb7-de66-443c-9cd3-41c553d88e0d"
      },
      "outputs": [
        {
          "data": {
            "image/png": "[encoded data removed]",
            "text/plain": [
              "<Figure size 640x480 with 1 Axes>"
            ]
          },
          "metadata": {},
          "output_type": "display_data"
        }
      ],
      "source": [
        "percentil95 = df_users[\"user_days_spent_watching\"].quantile(0.95)\n",
        "percentil5 = df_users[\"user_days_spent_watching\"].quantile(0.05)\n",
        "\n",
        "dfAux = df_users[(df_users[\"user_days_spent_watching\"] > percentil5) & (df_users[\"user_days_spent_watching\"] < percentil95)]\n",
        "\n",
        "masculino = dfAux.loc[dfAux[\"gender\"] == \"Male\"][\"user_days_spent_watching\"]\n",
        "femenino  = dfAux.loc[dfAux[\"gender\"] == \"Female\"][\"user_days_spent_watching\"]\n",
        "no_binario = dfAux.loc[dfAux[\"gender\"] == \"Non-Binary\"][\"user_days_spent_watching\"]\n",
        "\n",
        "plt.boxplot([masculino,femenino,no_binario])\n",
        "\n",
        "plt.title(\"Días viendo anime según género\")\n",
        "plt.xlabel(\"Género\")\n",
        "plt.ylabel(\"Dias\")\n",
        "plt.xticks([1, 2, 3], [\"Masculino\",\"Femenino\", \"No Binario\"])\n",
        "plt.show()"
      ]
    },
    {
      "cell_type": "markdown",
      "metadata": {
        "id": "wuzDXkttyCm1"
      },
      "source": [
        "Del boxplot se puede concluir lo siguiente:\n",
        "\n",
        "1.   El genero \"Masculino\" sigue siendo el que mas consume anime, como se puede observar por la mediana y el limite superior de la caja mas altos que los demás generos.\n",
        "2.   Se puede observar detalladamente que el 25% inferior del genero femenino no consume mas de 25 días de anime, y sigue siendo el genero que menos anime visualiza.\n",
        "3.   Al excluir el 5% que mas y menos ve, los valores atípicos han disminuido notablemente, tal como se ve en el genero \"Masculino\" que ya no se presenta ningun valor atípico pero en los generos \"Femenino\" y \"No Binario\" todavia existen. Esto nos indica que de ese 5% que mas ve anime, las personas de genero \"Masculino\" estaban presentes.\n",
        "\n",
        "\n"
      ]
    },
    {
      "cell_type": "markdown",
      "metadata": {
        "id": "VatfedVKzd7W"
      },
      "source": [
        "### 5)"
      ]
    },
    {
      "cell_type": "markdown",
      "metadata": {
        "id": "xqsE3DtE4SeP"
      },
      "source": [
        "En esta pregunta hacemos uso del metodo .loc() para poder filtrar los usuarios donde el \"Type\" sea \"TV\" y \"Source\" sea \"Manga\". Como se quiere mostrar las 10 series que cumplan estas condiciones mejor calificadas por el \"Score\", debemos seleccionar aquellos animes que el \"Score\" sea diferente de \"Unknown\""
      ]
    },
    {
      "cell_type": "code",
      "execution_count": null,
      "metadata": {
        "colab": {
          "base_uri": "https://localhost:8080/",
          "height": 363
        },
        "id": "XeYGJTtHMUhP",
        "outputId": "5f1b56bd-7b17-49b7-d67d-3e2426907e32"
      },
      "outputs": [
        {
          "data": {
            "text/html": [
              "\n",
              "  <div id=\"df-34be3783-422c-4283-84ff-271739b711c4\">\n",
              "    <div class=\"colab-df-container\">\n",
              "      <div>\n",
              "<style scoped>\n",
              "    .dataframe tbody tr th:only-of-type {\n",
              "        vertical-align: middle;\n",
              "    }\n",
              "\n",
              "    .dataframe tbody tr th {\n",
              "        vertical-align: top;\n",
              "    }\n",
              "\n",
              "    .dataframe thead th {\n",
              "        text-align: right;\n",
              "    }\n",
              "</style>\n",
              "<table border=\"1\" class=\"dataframe\">\n",
              "  <thead>\n",
              "    <tr style=\"text-align: right;\">\n",
              "      <th></th>\n",
              "      <th>English name</th>\n",
              "      <th>Score</th>\n",
              "    </tr>\n",
              "  </thead>\n",
              "  <tbody>\n",
              "    <tr>\n",
              "      <th>3971</th>\n",
              "      <td>Fullmetal Alchemist:Brotherhood</td>\n",
              "      <td>9.19</td>\n",
              "    </tr>\n",
              "    <tr>\n",
              "      <th>15926</th>\n",
              "      <td>Attack on Titan Final Season</td>\n",
              "      <td>9.17</td>\n",
              "    </tr>\n",
              "    <tr>\n",
              "      <th>9913</th>\n",
              "      <td>Gintama Season 4</td>\n",
              "      <td>9.1</td>\n",
              "    </tr>\n",
              "    <tr>\n",
              "      <th>14963</th>\n",
              "      <td>Attack on Titan Season 3 Part 2</td>\n",
              "      <td>9.1</td>\n",
              "    </tr>\n",
              "    <tr>\n",
              "      <th>6474</th>\n",
              "      <td>Hunter x Hunter</td>\n",
              "      <td>9.1</td>\n",
              "    </tr>\n",
              "    <tr>\n",
              "      <th>6006</th>\n",
              "      <td>Gintama Season 2</td>\n",
              "      <td>9.08</td>\n",
              "    </tr>\n",
              "    <tr>\n",
              "      <th>7261</th>\n",
              "      <td>Gintama:Enchousen</td>\n",
              "      <td>9.04</td>\n",
              "    </tr>\n",
              "    <tr>\n",
              "      <th>12898</th>\n",
              "      <td>March Comes In Like A Lion 2nd Season</td>\n",
              "      <td>9.0</td>\n",
              "    </tr>\n",
              "    <tr>\n",
              "      <th>12242</th>\n",
              "      <td>Gintama Season 5</td>\n",
              "      <td>8.99</td>\n",
              "    </tr>\n",
              "    <tr>\n",
              "      <th>833</th>\n",
              "      <td>Gintama</td>\n",
              "      <td>8.96</td>\n",
              "    </tr>\n",
              "  </tbody>\n",
              "</table>\n",
              "</div>\n",
              "      <button class=\"colab-df-convert\" onclick=\"convertToInteractive('df-34be3783-422c-4283-84ff-271739b711c4')\"\n",
              "              title=\"Convert this dataframe to an interactive table.\"\n",
              "              style=\"display:none;\">\n",
              "        \n",
              "  <svg xmlns=\"http://www.w3.org/2000/svg\" height=\"24px\"viewBox=\"0 0 24 24\"\n",
              "       width=\"24px\">\n",
              "    <path d=\"M0 0h24v24H0V0z\" fill=\"none\"/>\n",
              "    <path d=\"M18.56 5.44l.94 2.06.94-2.06 2.06-.94-2.06-.94-.94-2.06-.94 2.06-2.06.94zm-11 1L8.5 8.5l.94-2.06 2.06-.94-2.06-.94L8.5 2.5l-.94 2.06-2.06.94zm10 10l.94 2.06.94-2.06 2.06-.94-2.06-.94-.94-2.06-.94 2.06-2.06.94z\"/><path d=\"M17.41 7.96l-1.37-1.37c-.4-.4-.92-.59-1.43-.59-.52 0-1.04.2-1.43.59L10.3 9.45l-7.72 7.72c-.78.78-.78 2.05 0 2.83L4 21.41c.39.39.9.59 1.41.59.51 0 1.02-.2 1.41-.59l7.78-7.78 2.81-2.81c.8-.78.8-2.07 0-2.86zM5.41 20L4 18.59l7.72-7.72 1.47 1.35L5.41 20z\"/>\n",
              "  </svg>\n",
              "      </button>\n",
              "      \n",
              "  <style>\n",
              "    .colab-df-container {\n",
              "      display:flex;\n",
              "      flex-wrap:wrap;\n",
              "      gap: 12px;\n",
              "    }\n",
              "\n",
              "    .colab-df-convert {\n",
              "      background-color: #E8F0FE;\n",
              "      border: none;\n",
              "      border-radius: 50%;\n",
              "      cursor: pointer;\n",
              "      display: none;\n",
              "      fill: #1967D2;\n",
              "      height: 32px;\n",
              "      padding: 0 0 0 0;\n",
              "      width: 32px;\n",
              "    }\n",
              "\n",
              "    .colab-df-convert:hover {\n",
              "      background-color: #E2EBFA;\n",
              "      box-shadow: 0px 1px 2px rgba(60, 64, 67, 0.3), 0px 1px 3px 1px rgba(60, 64, 67, 0.15);\n",
              "      fill: #174EA6;\n",
              "    }\n",
              "\n",
              "    [theme=dark] .colab-df-convert {\n",
              "      background-color: #3B4455;\n",
              "      fill: #D2E3FC;\n",
              "    }\n",
              "\n",
              "    [theme=dark] .colab-df-convert:hover {\n",
              "      background-color: #434B5C;\n",
              "      box-shadow: 0px 1px 3px 1px rgba(0, 0, 0, 0.15);\n",
              "      filter: drop-shadow(0px 1px 2px rgba(0, 0, 0, 0.3));\n",
              "      fill: #FFFFFF;\n",
              "    }\n",
              "  </style>\n",
              "\n",
              "      <script>\n",
              "        const buttonEl =\n",
              "          document.querySelector('#df-34be3783-422c-4283-84ff-271739b711c4 button.colab-df-convert');\n",
              "        buttonEl.style.display =\n",
              "          google.colab.kernel.accessAllowed ? 'block' : 'none';\n",
              "\n",
              "        async function convertToInteractive(key) {\n",
              "          const element = document.querySelector('#df-34be3783-422c-4283-84ff-271739b711c4');\n",
              "          const dataTable =\n",
              "            await google.colab.kernel.invokeFunction('convertToInteractive',\n",
              "                                                     [key], {});\n",
              "          if (!dataTable) return;\n",
              "\n",
              "          const docLinkHtml = 'Like what you see? Visit the ' +\n",
              "            '<a target=\"_blank\" href=https://colab.research.google.com/notebooks/data_table.ipynb>data table notebook</a>'\n",
              "            + ' to learn more about interactive tables.';\n",
              "          element.innerHTML = '';\n",
              "          dataTable['output_type'] = 'display_data';\n",
              "          await google.colab.output.renderOutput(dataTable, element);\n",
              "          const docLink = document.createElement('div');\n",
              "          docLink.innerHTML = docLinkHtml;\n",
              "          element.appendChild(docLink);\n",
              "        }\n",
              "      </script>\n",
              "    </div>\n",
              "  </div>\n",
              "  "
            ],
            "text/plain": [
              "                                English name Score\n",
              "3971         Fullmetal Alchemist:Brotherhood  9.19\n",
              "15926           Attack on Titan Final Season  9.17\n",
              "9913                        Gintama Season 4   9.1\n",
              "14963        Attack on Titan Season 3 Part 2   9.1\n",
              "6474                         Hunter x Hunter   9.1\n",
              "6006                        Gintama Season 2  9.08\n",
              "7261                       Gintama:Enchousen  9.04\n",
              "12898  March Comes In Like A Lion 2nd Season   9.0\n",
              "12242                       Gintama Season 5  8.99\n",
              "833                                  Gintama  8.96"
            ]
          },
          "execution_count": 214,
          "metadata": {},
          "output_type": "execute_result"
        }
      ],
      "source": [
        "dfAux = df_animes.loc[(df_animes[\"Type\"] == \"TV\") & (df_animes[\"Source\"] == \"Manga\") & (df_animes[\"Score\"] != \"Unknown\")]\n",
        "\n",
        "dfAux = dfAux.sort_values(by=\"Score\",ascending=False)\n",
        "\n",
        "dfMostrar = dfAux[[\"English name\",\"Score\"]]\n",
        "\n",
        "dfMostrar.head(10)"
      ]
    },
    {
      "cell_type": "markdown",
      "metadata": {
        "id": "8H3c9lLnzfob"
      },
      "source": [
        "### 6)"
      ]
    },
    {
      "cell_type": "markdown",
      "metadata": {
        "id": "hpUicTlJ4xJp"
      },
      "source": [
        "Similar a la pregunta anterior, se hace uso del metodo .loc() para poder filtrar los usuarios donde el \"Type\" sea \"TV\" y \"Source\" sea \"Manga\". En este caso, se quiere mostrar las 10 series que cumplan estas condiciones y son las que mas veces han sido agregadas a \"Favourite\". Tambien se debe seleccionar aquellos animes que el \"Score\" sea diferente de \"Unknown\""
      ]
    },
    {
      "cell_type": "code",
      "execution_count": null,
      "metadata": {
        "colab": {
          "base_uri": "https://localhost:8080/",
          "height": 363
        },
        "id": "y3_dOCATQgdA",
        "outputId": "f740137b-90c6-4cf7-f767-306e192a4b61"
      },
      "outputs": [
        {
          "data": {
            "text/html": [
              "\n",
              "  <div id=\"df-6ad3d3ca-a5b7-4dbc-a80b-e5cf07490221\">\n",
              "    <div class=\"colab-df-container\">\n",
              "      <div>\n",
              "<style scoped>\n",
              "    .dataframe tbody tr th:only-of-type {\n",
              "        vertical-align: middle;\n",
              "    }\n",
              "\n",
              "    .dataframe tbody tr th {\n",
              "        vertical-align: top;\n",
              "    }\n",
              "\n",
              "    .dataframe thead th {\n",
              "        text-align: right;\n",
              "    }\n",
              "</style>\n",
              "<table border=\"1\" class=\"dataframe\">\n",
              "  <thead>\n",
              "    <tr style=\"text-align: right;\">\n",
              "      <th></th>\n",
              "      <th>English name</th>\n",
              "      <th>Score</th>\n",
              "    </tr>\n",
              "  </thead>\n",
              "  <tbody>\n",
              "    <tr>\n",
              "      <th>3971</th>\n",
              "      <td>Fullmetal Alchemist:Brotherhood</td>\n",
              "      <td>9.19</td>\n",
              "    </tr>\n",
              "    <tr>\n",
              "      <th>6474</th>\n",
              "      <td>Hunter x Hunter</td>\n",
              "      <td>9.1</td>\n",
              "    </tr>\n",
              "    <tr>\n",
              "      <th>1393</th>\n",
              "      <td>Death Note</td>\n",
              "      <td>8.63</td>\n",
              "    </tr>\n",
              "    <tr>\n",
              "      <th>7449</th>\n",
              "      <td>Attack on Titan</td>\n",
              "      <td>8.48</td>\n",
              "    </tr>\n",
              "    <tr>\n",
              "      <th>11</th>\n",
              "      <td>One Piece</td>\n",
              "      <td>8.52</td>\n",
              "    </tr>\n",
              "    <tr>\n",
              "      <th>1574</th>\n",
              "      <td>Naruto:Shippuden</td>\n",
              "      <td>8.16</td>\n",
              "    </tr>\n",
              "    <tr>\n",
              "      <th>8883</th>\n",
              "      <td>Your Lie in April</td>\n",
              "      <td>8.74</td>\n",
              "    </tr>\n",
              "    <tr>\n",
              "      <th>10</th>\n",
              "      <td>Naruto</td>\n",
              "      <td>7.91</td>\n",
              "    </tr>\n",
              "    <tr>\n",
              "      <th>8305</th>\n",
              "      <td>Haikyu!!</td>\n",
              "      <td>8.53</td>\n",
              "    </tr>\n",
              "    <tr>\n",
              "      <th>245</th>\n",
              "      <td>Bleach</td>\n",
              "      <td>7.8</td>\n",
              "    </tr>\n",
              "  </tbody>\n",
              "</table>\n",
              "</div>\n",
              "      <button class=\"colab-df-convert\" onclick=\"convertToInteractive('df-6ad3d3ca-a5b7-4dbc-a80b-e5cf07490221')\"\n",
              "              title=\"Convert this dataframe to an interactive table.\"\n",
              "              style=\"display:none;\">\n",
              "        \n",
              "  <svg xmlns=\"http://www.w3.org/2000/svg\" height=\"24px\"viewBox=\"0 0 24 24\"\n",
              "       width=\"24px\">\n",
              "    <path d=\"M0 0h24v24H0V0z\" fill=\"none\"/>\n",
              "    <path d=\"M18.56 5.44l.94 2.06.94-2.06 2.06-.94-2.06-.94-.94-2.06-.94 2.06-2.06.94zm-11 1L8.5 8.5l.94-2.06 2.06-.94-2.06-.94L8.5 2.5l-.94 2.06-2.06.94zm10 10l.94 2.06.94-2.06 2.06-.94-2.06-.94-.94-2.06-.94 2.06-2.06.94z\"/><path d=\"M17.41 7.96l-1.37-1.37c-.4-.4-.92-.59-1.43-.59-.52 0-1.04.2-1.43.59L10.3 9.45l-7.72 7.72c-.78.78-.78 2.05 0 2.83L4 21.41c.39.39.9.59 1.41.59.51 0 1.02-.2 1.41-.59l7.78-7.78 2.81-2.81c.8-.78.8-2.07 0-2.86zM5.41 20L4 18.59l7.72-7.72 1.47 1.35L5.41 20z\"/>\n",
              "  </svg>\n",
              "      </button>\n",
              "      \n",
              "  <style>\n",
              "    .colab-df-container {\n",
              "      display:flex;\n",
              "      flex-wrap:wrap;\n",
              "      gap: 12px;\n",
              "    }\n",
              "\n",
              "    .colab-df-convert {\n",
              "      background-color: #E8F0FE;\n",
              "      border: none;\n",
              "      border-radius: 50%;\n",
              "      cursor: pointer;\n",
              "      display: none;\n",
              "      fill: #1967D2;\n",
              "      height: 32px;\n",
              "      padding: 0 0 0 0;\n",
              "      width: 32px;\n",
              "    }\n",
              "\n",
              "    .colab-df-convert:hover {\n",
              "      background-color: #E2EBFA;\n",
              "      box-shadow: 0px 1px 2px rgba(60, 64, 67, 0.3), 0px 1px 3px 1px rgba(60, 64, 67, 0.15);\n",
              "      fill: #174EA6;\n",
              "    }\n",
              "\n",
              "    [theme=dark] .colab-df-convert {\n",
              "      background-color: #3B4455;\n",
              "      fill: #D2E3FC;\n",
              "    }\n",
              "\n",
              "    [theme=dark] .colab-df-convert:hover {\n",
              "      background-color: #434B5C;\n",
              "      box-shadow: 0px 1px 3px 1px rgba(0, 0, 0, 0.15);\n",
              "      filter: drop-shadow(0px 1px 2px rgba(0, 0, 0, 0.3));\n",
              "      fill: #FFFFFF;\n",
              "    }\n",
              "  </style>\n",
              "\n",
              "      <script>\n",
              "        const buttonEl =\n",
              "          document.querySelector('#df-6ad3d3ca-a5b7-4dbc-a80b-e5cf07490221 button.colab-df-convert');\n",
              "        buttonEl.style.display =\n",
              "          google.colab.kernel.accessAllowed ? 'block' : 'none';\n",
              "\n",
              "        async function convertToInteractive(key) {\n",
              "          const element = document.querySelector('#df-6ad3d3ca-a5b7-4dbc-a80b-e5cf07490221');\n",
              "          const dataTable =\n",
              "            await google.colab.kernel.invokeFunction('convertToInteractive',\n",
              "                                                     [key], {});\n",
              "          if (!dataTable) return;\n",
              "\n",
              "          const docLinkHtml = 'Like what you see? Visit the ' +\n",
              "            '<a target=\"_blank\" href=https://colab.research.google.com/notebooks/data_table.ipynb>data table notebook</a>'\n",
              "            + ' to learn more about interactive tables.';\n",
              "          element.innerHTML = '';\n",
              "          dataTable['output_type'] = 'display_data';\n",
              "          await google.colab.output.renderOutput(dataTable, element);\n",
              "          const docLink = document.createElement('div');\n",
              "          docLink.innerHTML = docLinkHtml;\n",
              "          element.appendChild(docLink);\n",
              "        }\n",
              "      </script>\n",
              "    </div>\n",
              "  </div>\n",
              "  "
            ],
            "text/plain": [
              "                         English name Score\n",
              "3971  Fullmetal Alchemist:Brotherhood  9.19\n",
              "6474                  Hunter x Hunter   9.1\n",
              "1393                       Death Note  8.63\n",
              "7449                  Attack on Titan  8.48\n",
              "11                          One Piece  8.52\n",
              "1574                 Naruto:Shippuden  8.16\n",
              "8883                Your Lie in April  8.74\n",
              "10                             Naruto  7.91\n",
              "8305                         Haikyu!!  8.53\n",
              "245                            Bleach   7.8"
            ]
          },
          "execution_count": 128,
          "metadata": {},
          "output_type": "execute_result"
        }
      ],
      "source": [
        "dfAux = df_animes.loc[(df_animes[\"Type\"] == \"TV\") & (df_animes[\"Source\"] == \"Manga\")  & (df_animes[\"Score\"] != \"Unknown\") ]\n",
        "\n",
        "dfAux = dfAux.sort_values(by=\"Favorites\",ascending=False)\n",
        "\n",
        "dfMostrar = dfAux[[\"English name\",\"Score\"]]\n",
        "\n",
        "dfMostrar.head(10)"
      ]
    },
    {
      "cell_type": "markdown",
      "metadata": {
        "id": "3EKrJFbKzhEO"
      },
      "source": [
        "### 7)"
      ]
    },
    {
      "cell_type": "markdown",
      "metadata": {
        "id": "qSLyQ4o35MqO"
      },
      "source": [
        "Similar a la pregunta anterior, se hace uso del metodo .loc() para poder filtrar los usuarios donde el \"Type\" sea \"TV\" y \"Source\" sea \"Manga\". Como en la columna \"Genres\" despues de una coma puede existir un espacio en blanco, eliminamos ese espacio en blanco y separamos los generos por el caracter \",\""
      ]
    },
    {
      "cell_type": "code",
      "execution_count": null,
      "metadata": {
        "colab": {
          "base_uri": "https://localhost:8080/",
          "height": 206
        },
        "id": "mxofbLk4QgKh",
        "outputId": "1fa98def-88c2-4bd3-88bb-e2c562ac854e"
      },
      "outputs": [
        {
          "data": {
            "text/html": [
              "\n",
              "  <div id=\"df-29897c81-f7fa-41c1-a554-68faca7be5e3\">\n",
              "    <div class=\"colab-df-container\">\n",
              "      <div>\n",
              "<style scoped>\n",
              "    .dataframe tbody tr th:only-of-type {\n",
              "        vertical-align: middle;\n",
              "    }\n",
              "\n",
              "    .dataframe tbody tr th {\n",
              "        vertical-align: top;\n",
              "    }\n",
              "\n",
              "    .dataframe thead th {\n",
              "        text-align: right;\n",
              "    }\n",
              "</style>\n",
              "<table border=\"1\" class=\"dataframe\">\n",
              "  <thead>\n",
              "    <tr style=\"text-align: right;\">\n",
              "      <th></th>\n",
              "      <th>Generos</th>\n",
              "      <th>Cantidad</th>\n",
              "    </tr>\n",
              "  </thead>\n",
              "  <tbody>\n",
              "    <tr>\n",
              "      <th>0</th>\n",
              "      <td>Comedy</td>\n",
              "      <td>841</td>\n",
              "    </tr>\n",
              "    <tr>\n",
              "      <th>1</th>\n",
              "      <td>Shounen</td>\n",
              "      <td>584</td>\n",
              "    </tr>\n",
              "    <tr>\n",
              "      <th>2</th>\n",
              "      <td>Action</td>\n",
              "      <td>481</td>\n",
              "    </tr>\n",
              "    <tr>\n",
              "      <th>3</th>\n",
              "      <td>Drama</td>\n",
              "      <td>391</td>\n",
              "    </tr>\n",
              "    <tr>\n",
              "      <th>4</th>\n",
              "      <td>Romance</td>\n",
              "      <td>382</td>\n",
              "    </tr>\n",
              "  </tbody>\n",
              "</table>\n",
              "</div>\n",
              "      <button class=\"colab-df-convert\" onclick=\"convertToInteractive('df-29897c81-f7fa-41c1-a554-68faca7be5e3')\"\n",
              "              title=\"Convert this dataframe to an interactive table.\"\n",
              "              style=\"display:none;\">\n",
              "        \n",
              "  <svg xmlns=\"http://www.w3.org/2000/svg\" height=\"24px\"viewBox=\"0 0 24 24\"\n",
              "       width=\"24px\">\n",
              "    <path d=\"M0 0h24v24H0V0z\" fill=\"none\"/>\n",
              "    <path d=\"M18.56 5.44l.94 2.06.94-2.06 2.06-.94-2.06-.94-.94-2.06-.94 2.06-2.06.94zm-11 1L8.5 8.5l.94-2.06 2.06-.94-2.06-.94L8.5 2.5l-.94 2.06-2.06.94zm10 10l.94 2.06.94-2.06 2.06-.94-2.06-.94-.94-2.06-.94 2.06-2.06.94z\"/><path d=\"M17.41 7.96l-1.37-1.37c-.4-.4-.92-.59-1.43-.59-.52 0-1.04.2-1.43.59L10.3 9.45l-7.72 7.72c-.78.78-.78 2.05 0 2.83L4 21.41c.39.39.9.59 1.41.59.51 0 1.02-.2 1.41-.59l7.78-7.78 2.81-2.81c.8-.78.8-2.07 0-2.86zM5.41 20L4 18.59l7.72-7.72 1.47 1.35L5.41 20z\"/>\n",
              "  </svg>\n",
              "      </button>\n",
              "      \n",
              "  <style>\n",
              "    .colab-df-container {\n",
              "      display:flex;\n",
              "      flex-wrap:wrap;\n",
              "      gap: 12px;\n",
              "    }\n",
              "\n",
              "    .colab-df-convert {\n",
              "      background-color: #E8F0FE;\n",
              "      border: none;\n",
              "      border-radius: 50%;\n",
              "      cursor: pointer;\n",
              "      display: none;\n",
              "      fill: #1967D2;\n",
              "      height: 32px;\n",
              "      padding: 0 0 0 0;\n",
              "      width: 32px;\n",
              "    }\n",
              "\n",
              "    .colab-df-convert:hover {\n",
              "      background-color: #E2EBFA;\n",
              "      box-shadow: 0px 1px 2px rgba(60, 64, 67, 0.3), 0px 1px 3px 1px rgba(60, 64, 67, 0.15);\n",
              "      fill: #174EA6;\n",
              "    }\n",
              "\n",
              "    [theme=dark] .colab-df-convert {\n",
              "      background-color: #3B4455;\n",
              "      fill: #D2E3FC;\n",
              "    }\n",
              "\n",
              "    [theme=dark] .colab-df-convert:hover {\n",
              "      background-color: #434B5C;\n",
              "      box-shadow: 0px 1px 3px 1px rgba(0, 0, 0, 0.15);\n",
              "      filter: drop-shadow(0px 1px 2px rgba(0, 0, 0, 0.3));\n",
              "      fill: #FFFFFF;\n",
              "    }\n",
              "  </style>\n",
              "\n",
              "      <script>\n",
              "        const buttonEl =\n",
              "          document.querySelector('#df-29897c81-f7fa-41c1-a554-68faca7be5e3 button.colab-df-convert');\n",
              "        buttonEl.style.display =\n",
              "          google.colab.kernel.accessAllowed ? 'block' : 'none';\n",
              "\n",
              "        async function convertToInteractive(key) {\n",
              "          const element = document.querySelector('#df-29897c81-f7fa-41c1-a554-68faca7be5e3');\n",
              "          const dataTable =\n",
              "            await google.colab.kernel.invokeFunction('convertToInteractive',\n",
              "                                                     [key], {});\n",
              "          if (!dataTable) return;\n",
              "\n",
              "          const docLinkHtml = 'Like what you see? Visit the ' +\n",
              "            '<a target=\"_blank\" href=https://colab.research.google.com/notebooks/data_table.ipynb>data table notebook</a>'\n",
              "            + ' to learn more about interactive tables.';\n",
              "          element.innerHTML = '';\n",
              "          dataTable['output_type'] = 'display_data';\n",
              "          await google.colab.output.renderOutput(dataTable, element);\n",
              "          const docLink = document.createElement('div');\n",
              "          docLink.innerHTML = docLinkHtml;\n",
              "          element.appendChild(docLink);\n",
              "        }\n",
              "      </script>\n",
              "    </div>\n",
              "  </div>\n",
              "  "
            ],
            "text/plain": [
              "   Generos  Cantidad\n",
              "0   Comedy       841\n",
              "1  Shounen       584\n",
              "2   Action       481\n",
              "3    Drama       391\n",
              "4  Romance       382"
            ]
          },
          "execution_count": 121,
          "metadata": {},
          "output_type": "execute_result"
        }
      ],
      "source": [
        "dfAux = df_animes.loc[(df_animes[\"Type\"] == \"TV\") & (df_animes[\"Source\"] == \"Manga\") ]\n",
        "dfAux[\"Genres\"] = dfAux[\"Genres\"].str.replace(\", \",\",\")\n",
        "\n",
        "deAux = dfAux[\"Genres\"].str.split(',', expand=True).stack()\n",
        "\n",
        "generos = deAux.value_counts()\n",
        "\n",
        "dfMostrar = pd.DataFrame({'Generos': generos.index, 'Cantidad': generos.values})\n",
        "dfMostrar = dfMostrar.rename(columns={'index':'Generos', 0:'Cantidad'})\n",
        "\n",
        "dfMostrar.head(5)"
      ]
    },
    {
      "cell_type": "markdown",
      "metadata": {
        "id": "J7I9HaO5ziEg"
      },
      "source": [
        "### 8)"
      ]
    },
    {
      "cell_type": "markdown",
      "metadata": {
        "id": "hVcKaXC77ngQ"
      },
      "source": [
        "Eliminamos el espacio que puede haber despues de la \",\" en los generos y con la funcion .str.contains() buscamos que el genero que se busca se encuentre en la columna de generos haciendo uso de una expresion regular para evitar encontrar generos como \"Shounen AI\". Se transforma el \"Score\" a punto flotante para realizar el histograma."
      ]
    },
    {
      "cell_type": "code",
      "execution_count": null,
      "metadata": {
        "colab": {
          "base_uri": "https://localhost:8080/",
          "height": 480
        },
        "id": "f7deGlVqQfya",
        "outputId": "2a850777-c19b-499b-b2ea-20b851ac3709"
      },
      "outputs": [
        {
          "data": {
            "image/png": "[encoded data removed]",
            "text/plain": [
              "<Figure size 640x480 with 1 Axes>"
            ]
          },
          "metadata": {},
          "output_type": "display_data"
        }
      ],
      "source": [
        "dfAux = df_animes.loc[(df_animes[\"Type\"] == \"TV\") & (df_animes[\"Source\"] == \"Manga\") & (df_animes[\"Score\"] != \"Unknown\") ]\n",
        "dfAux[\"Genres\"] = dfAux[\"Genres\"].str.replace(\", \",\",\")\n",
        "\n",
        "# Expresion regular para que despues de Shounen solo pueda haber un \",\" o termine con esa palabra\n",
        "\n",
        "shounen = dfAux[dfAux[\"Genres\"].str.contains(r'Shounen($|,\\s?)',na=False)]\n",
        "seinen = dfAux[dfAux[\"Genres\"].str.contains(r'Seinen($|,\\s?)',na=False)]\n",
        "\n",
        "shounen[\"Score\"] = shounen[\"Score\"].astype(\"float\")\n",
        "seinen[\"Score\"] = seinen[\"Score\"].astype(\"float\")\n",
        "\n",
        "shounen[\"Score\"].hist(bins=\"auto\",alpha=0.8,label='Shounen')\n",
        "seinen[\"Score\"].hist(bins=\"auto\",alpha=0.8,label=\"Seinen\")\n",
        "\n",
        "plt.title('Score para el anime Shounen')\n",
        "plt.legend(loc='upper left')\n",
        "plt.xlabel('Score') \n",
        "plt.ylabel('Frecuencia')\n",
        "plt.show()"
      ]
    },
    {
      "cell_type": "markdown",
      "metadata": {
        "id": "-zqNSAREAK1-"
      },
      "source": [
        "Del Histograma se puede concluir que existen mas animes del tipo Shounen que Seinen para los scores entre aproximadamente 6.5 y 8.7. Se puede observar que los animes sus scores empiezan desde 5 en adelante aproximadamente para el caso de Shounen y de 5,5 en adelante aproximadamente para el caso de Seinen, donde tambien se puede observar que el genero Seinen posee animes con score cercano a los 2. Se puede concluir que el genero Shounen posee en general un mayor score que los anime tipo Seinen. Tambien se puede observar que ambos generos poseen un sesgo negativo, dado que ambos se inclinan a la derecha del histograma y no se aprecian animes con score entre 3 y 5."
      ]
    },
    {
      "cell_type": "markdown",
      "metadata": {
        "id": "WmXQW4-czkmr"
      },
      "source": [
        "### 9)"
      ]
    },
    {
      "cell_type": "markdown",
      "metadata": {
        "id": "E_csFDjn8w4i"
      },
      "source": [
        "Para esta pregunta se hará uso de la libreria \"re\", la cual está importada al inicio con las demas librerias. Primero se filtra que \"Score\" != \"Unknown\" y se elimina el espacio en blanco que puede haber despues de una \",\". Haciendo uso de la librera \"re\", buscamos aquellos animes que correspondan al genero que se solicita con una expresion regular y retornamos el dataframe donde Rank va desde 1 hasta n, y con los campos Rank, Title y Score"
      ]
    },
    {
      "cell_type": "code",
      "execution_count": null,
      "metadata": {
        "colab": {
          "base_uri": "https://localhost:8080/",
          "height": 363
        },
        "id": "XkVIoLJomoY3",
        "outputId": "db7c2e1b-50fc-4369-ad51-9298c8242060"
      },
      "outputs": [
        {
          "data": {
            "text/html": [
              "\n",
              "  <div id=\"df-204d0c7f-46b1-4fae-9862-a1de6aeb5712\">\n",
              "    <div class=\"colab-df-container\">\n",
              "      <div>\n",
              "<style scoped>\n",
              "    .dataframe tbody tr th:only-of-type {\n",
              "        vertical-align: middle;\n",
              "    }\n",
              "\n",
              "    .dataframe tbody tr th {\n",
              "        vertical-align: top;\n",
              "    }\n",
              "\n",
              "    .dataframe thead th {\n",
              "        text-align: right;\n",
              "    }\n",
              "</style>\n",
              "<table border=\"1\" class=\"dataframe\">\n",
              "  <thead>\n",
              "    <tr style=\"text-align: right;\">\n",
              "      <th></th>\n",
              "      <th>Title</th>\n",
              "      <th>Score</th>\n",
              "      <th>Rank</th>\n",
              "    </tr>\n",
              "  </thead>\n",
              "  <tbody>\n",
              "    <tr>\n",
              "      <th>3971</th>\n",
              "      <td>Fullmetal Alchemist:Brotherhood</td>\n",
              "      <td>9.19</td>\n",
              "      <td>1</td>\n",
              "    </tr>\n",
              "    <tr>\n",
              "      <th>9913</th>\n",
              "      <td>Gintama Season 4</td>\n",
              "      <td>9.1</td>\n",
              "      <td>2</td>\n",
              "    </tr>\n",
              "    <tr>\n",
              "      <th>6006</th>\n",
              "      <td>Gintama Season 2</td>\n",
              "      <td>9.08</td>\n",
              "      <td>3</td>\n",
              "    </tr>\n",
              "    <tr>\n",
              "      <th>7261</th>\n",
              "      <td>Gintama:Enchousen</td>\n",
              "      <td>9.04</td>\n",
              "      <td>4</td>\n",
              "    </tr>\n",
              "    <tr>\n",
              "      <th>12242</th>\n",
              "      <td>Gintama Season 5</td>\n",
              "      <td>8.99</td>\n",
              "      <td>5</td>\n",
              "    </tr>\n",
              "    <tr>\n",
              "      <th>3537</th>\n",
              "      <td>Clannad ~After Story~</td>\n",
              "      <td>8.96</td>\n",
              "      <td>6</td>\n",
              "    </tr>\n",
              "    <tr>\n",
              "      <th>7249</th>\n",
              "      <td>Gintama Movie 2: Kanketsu-hen - Yorozuya yo Ei...</td>\n",
              "      <td>8.96</td>\n",
              "      <td>7</td>\n",
              "    </tr>\n",
              "    <tr>\n",
              "      <th>833</th>\n",
              "      <td>Gintama</td>\n",
              "      <td>8.96</td>\n",
              "      <td>8</td>\n",
              "    </tr>\n",
              "    <tr>\n",
              "      <th>12933</th>\n",
              "      <td>Owarimonogatari Second Season</td>\n",
              "      <td>8.93</td>\n",
              "      <td>9</td>\n",
              "    </tr>\n",
              "    <tr>\n",
              "      <th>15631</th>\n",
              "      <td>Gintama: The Final</td>\n",
              "      <td>8.88</td>\n",
              "      <td>10</td>\n",
              "    </tr>\n",
              "  </tbody>\n",
              "</table>\n",
              "</div>\n",
              "      <button class=\"colab-df-convert\" onclick=\"convertToInteractive('df-204d0c7f-46b1-4fae-9862-a1de6aeb5712')\"\n",
              "              title=\"Convert this dataframe to an interactive table.\"\n",
              "              style=\"display:none;\">\n",
              "        \n",
              "  <svg xmlns=\"http://www.w3.org/2000/svg\" height=\"24px\"viewBox=\"0 0 24 24\"\n",
              "       width=\"24px\">\n",
              "    <path d=\"M0 0h24v24H0V0z\" fill=\"none\"/>\n",
              "    <path d=\"M18.56 5.44l.94 2.06.94-2.06 2.06-.94-2.06-.94-.94-2.06-.94 2.06-2.06.94zm-11 1L8.5 8.5l.94-2.06 2.06-.94-2.06-.94L8.5 2.5l-.94 2.06-2.06.94zm10 10l.94 2.06.94-2.06 2.06-.94-2.06-.94-.94-2.06-.94 2.06-2.06.94z\"/><path d=\"M17.41 7.96l-1.37-1.37c-.4-.4-.92-.59-1.43-.59-.52 0-1.04.2-1.43.59L10.3 9.45l-7.72 7.72c-.78.78-.78 2.05 0 2.83L4 21.41c.39.39.9.59 1.41.59.51 0 1.02-.2 1.41-.59l7.78-7.78 2.81-2.81c.8-.78.8-2.07 0-2.86zM5.41 20L4 18.59l7.72-7.72 1.47 1.35L5.41 20z\"/>\n",
              "  </svg>\n",
              "      </button>\n",
              "      \n",
              "  <style>\n",
              "    .colab-df-container {\n",
              "      display:flex;\n",
              "      flex-wrap:wrap;\n",
              "      gap: 12px;\n",
              "    }\n",
              "\n",
              "    .colab-df-convert {\n",
              "      background-color: #E8F0FE;\n",
              "      border: none;\n",
              "      border-radius: 50%;\n",
              "      cursor: pointer;\n",
              "      display: none;\n",
              "      fill: #1967D2;\n",
              "      height: 32px;\n",
              "      padding: 0 0 0 0;\n",
              "      width: 32px;\n",
              "    }\n",
              "\n",
              "    .colab-df-convert:hover {\n",
              "      background-color: #E2EBFA;\n",
              "      box-shadow: 0px 1px 2px rgba(60, 64, 67, 0.3), 0px 1px 3px 1px rgba(60, 64, 67, 0.15);\n",
              "      fill: #174EA6;\n",
              "    }\n",
              "\n",
              "    [theme=dark] .colab-df-convert {\n",
              "      background-color: #3B4455;\n",
              "      fill: #D2E3FC;\n",
              "    }\n",
              "\n",
              "    [theme=dark] .colab-df-convert:hover {\n",
              "      background-color: #434B5C;\n",
              "      box-shadow: 0px 1px 3px 1px rgba(0, 0, 0, 0.15);\n",
              "      filter: drop-shadow(0px 1px 2px rgba(0, 0, 0, 0.3));\n",
              "      fill: #FFFFFF;\n",
              "    }\n",
              "  </style>\n",
              "\n",
              "      <script>\n",
              "        const buttonEl =\n",
              "          document.querySelector('#df-204d0c7f-46b1-4fae-9862-a1de6aeb5712 button.colab-df-convert');\n",
              "        buttonEl.style.display =\n",
              "          google.colab.kernel.accessAllowed ? 'block' : 'none';\n",
              "\n",
              "        async function convertToInteractive(key) {\n",
              "          const element = document.querySelector('#df-204d0c7f-46b1-4fae-9862-a1de6aeb5712');\n",
              "          const dataTable =\n",
              "            await google.colab.kernel.invokeFunction('convertToInteractive',\n",
              "                                                     [key], {});\n",
              "          if (!dataTable) return;\n",
              "\n",
              "          const docLinkHtml = 'Like what you see? Visit the ' +\n",
              "            '<a target=\"_blank\" href=https://colab.research.google.com/notebooks/data_table.ipynb>data table notebook</a>'\n",
              "            + ' to learn more about interactive tables.';\n",
              "          element.innerHTML = '';\n",
              "          dataTable['output_type'] = 'display_data';\n",
              "          await google.colab.output.renderOutput(dataTable, element);\n",
              "          const docLink = document.createElement('div');\n",
              "          docLink.innerHTML = docLinkHtml;\n",
              "          element.appendChild(docLink);\n",
              "        }\n",
              "      </script>\n",
              "    </div>\n",
              "  </div>\n",
              "  "
            ],
            "text/plain": [
              "                                                   Title Score  Rank\n",
              "3971                     Fullmetal Alchemist:Brotherhood  9.19     1\n",
              "9913                                    Gintama Season 4   9.1     2\n",
              "6006                                    Gintama Season 2  9.08     3\n",
              "7261                                   Gintama:Enchousen  9.04     4\n",
              "12242                                   Gintama Season 5  8.99     5\n",
              "3537                               Clannad ~After Story~  8.96     6\n",
              "7249   Gintama Movie 2: Kanketsu-hen - Yorozuya yo Ei...  8.96     7\n",
              "833                                              Gintama  8.96     8\n",
              "12933                      Owarimonogatari Second Season  8.93     9\n",
              "15631                                 Gintama: The Final  8.88    10"
            ]
          },
          "execution_count": 20,
          "metadata": {},
          "output_type": "execute_result"
        }
      ],
      "source": [
        "def Recomendar_TopN(genero, n):\n",
        "  dfAux = df_animes.loc[df_animes[\"Score\"] != \"Unknown\"]\n",
        "  dfAux[\"Genres\"] = dfAux[\"Genres\"].str.replace(\", \",\",\")\n",
        "  \n",
        "  dfAux[\"English name\"].mask(dfAux[\"English name\"] == \"Unknown\", dfAux[\"Name\"], inplace=True)\n",
        "  # mascara booleana\n",
        "\n",
        "  regex = re.escape(genero) + r\"($|,\\s?)\"\n",
        "\n",
        "  gen = dfAux[dfAux[\"Genres\"].str.contains(regex,na=False)]\n",
        "  gen = gen.sort_values(by=\"Score\",ascending=False)\n",
        "  gen[\"Title\"] = gen[\"English name\"]\n",
        "\n",
        "  dfMostrar = gen[[\"Title\",\"Score\"]]\n",
        "  dfMostrar[\"Rank\"] = np.arange(1,len(dfMostrar)+1) \n",
        "  dfMostrar = dfMostrar.head(n)\n",
        "\n",
        "  return dfMostrar\n",
        "\n",
        "dfMostrar = Recomendar_TopN(\"Comedy\",10)\n",
        "dfMostrar"
      ]
    },
    {
      "cell_type": "markdown",
      "metadata": {
        "id": "rBugTbOCznT8"
      },
      "source": [
        "### BONUS"
      ]
    },
    {
      "cell_type": "markdown",
      "metadata": {
        "id": "8ld2FtT6deEc"
      },
      "source": [
        "Para esta pregunta hacemos algo similar a la anterior, pero verificando que todos los generos de la lista esten en los Generos, creando una lista de series y haciendo uso de la funcion np.all()"
      ]
    },
    {
      "cell_type": "code",
      "execution_count": null,
      "metadata": {
        "colab": {
          "base_uri": "https://localhost:8080/",
          "height": 363
        },
        "id": "JbH63WviTQ0X",
        "outputId": "5ffd8fbd-a7bb-45b2-88ff-58a74ac7677e"
      },
      "outputs": [
        {
          "data": {
            "text/html": [
              "\n",
              "  <div id=\"df-32d4676f-e98b-4184-9907-c7bea53db5b0\">\n",
              "    <div class=\"colab-df-container\">\n",
              "      <div>\n",
              "<style scoped>\n",
              "    .dataframe tbody tr th:only-of-type {\n",
              "        vertical-align: middle;\n",
              "    }\n",
              "\n",
              "    .dataframe tbody tr th {\n",
              "        vertical-align: top;\n",
              "    }\n",
              "\n",
              "    .dataframe thead th {\n",
              "        text-align: right;\n",
              "    }\n",
              "</style>\n",
              "<table border=\"1\" class=\"dataframe\">\n",
              "  <thead>\n",
              "    <tr style=\"text-align: right;\">\n",
              "      <th></th>\n",
              "      <th>Title</th>\n",
              "      <th>Score</th>\n",
              "      <th>Rank</th>\n",
              "    </tr>\n",
              "  </thead>\n",
              "  <tbody>\n",
              "    <tr>\n",
              "      <th>3971</th>\n",
              "      <td>Fullmetal Alchemist:Brotherhood</td>\n",
              "      <td>9.19</td>\n",
              "      <td>1</td>\n",
              "    </tr>\n",
              "    <tr>\n",
              "      <th>9913</th>\n",
              "      <td>Gintama Season 4</td>\n",
              "      <td>9.1</td>\n",
              "      <td>2</td>\n",
              "    </tr>\n",
              "    <tr>\n",
              "      <th>6006</th>\n",
              "      <td>Gintama Season 2</td>\n",
              "      <td>9.08</td>\n",
              "      <td>3</td>\n",
              "    </tr>\n",
              "    <tr>\n",
              "      <th>7261</th>\n",
              "      <td>Gintama:Enchousen</td>\n",
              "      <td>9.04</td>\n",
              "      <td>4</td>\n",
              "    </tr>\n",
              "    <tr>\n",
              "      <th>12242</th>\n",
              "      <td>Gintama Season 5</td>\n",
              "      <td>8.99</td>\n",
              "      <td>5</td>\n",
              "    </tr>\n",
              "    <tr>\n",
              "      <th>7249</th>\n",
              "      <td>Gintama Movie 2: Kanketsu-hen - Yorozuya yo Ei...</td>\n",
              "      <td>8.96</td>\n",
              "      <td>6</td>\n",
              "    </tr>\n",
              "    <tr>\n",
              "      <th>833</th>\n",
              "      <td>Gintama</td>\n",
              "      <td>8.96</td>\n",
              "      <td>7</td>\n",
              "    </tr>\n",
              "    <tr>\n",
              "      <th>15631</th>\n",
              "      <td>Gintama: The Final</td>\n",
              "      <td>8.88</td>\n",
              "      <td>8</td>\n",
              "    </tr>\n",
              "    <tr>\n",
              "      <th>11624</th>\n",
              "      <td>Haikyu!! 3rd Season</td>\n",
              "      <td>8.87</td>\n",
              "      <td>9</td>\n",
              "    </tr>\n",
              "    <tr>\n",
              "      <th>14293</th>\n",
              "      <td>Gintama.:Silver Soul Arc - Second Half War</td>\n",
              "      <td>8.86</td>\n",
              "      <td>10</td>\n",
              "    </tr>\n",
              "  </tbody>\n",
              "</table>\n",
              "</div>\n",
              "      <button class=\"colab-df-convert\" onclick=\"convertToInteractive('df-32d4676f-e98b-4184-9907-c7bea53db5b0')\"\n",
              "              title=\"Convert this dataframe to an interactive table.\"\n",
              "              style=\"display:none;\">\n",
              "        \n",
              "  <svg xmlns=\"http://www.w3.org/2000/svg\" height=\"24px\"viewBox=\"0 0 24 24\"\n",
              "       width=\"24px\">\n",
              "    <path d=\"M0 0h24v24H0V0z\" fill=\"none\"/>\n",
              "    <path d=\"M18.56 5.44l.94 2.06.94-2.06 2.06-.94-2.06-.94-.94-2.06-.94 2.06-2.06.94zm-11 1L8.5 8.5l.94-2.06 2.06-.94-2.06-.94L8.5 2.5l-.94 2.06-2.06.94zm10 10l.94 2.06.94-2.06 2.06-.94-2.06-.94-.94-2.06-.94 2.06-2.06.94z\"/><path d=\"M17.41 7.96l-1.37-1.37c-.4-.4-.92-.59-1.43-.59-.52 0-1.04.2-1.43.59L10.3 9.45l-7.72 7.72c-.78.78-.78 2.05 0 2.83L4 21.41c.39.39.9.59 1.41.59.51 0 1.02-.2 1.41-.59l7.78-7.78 2.81-2.81c.8-.78.8-2.07 0-2.86zM5.41 20L4 18.59l7.72-7.72 1.47 1.35L5.41 20z\"/>\n",
              "  </svg>\n",
              "      </button>\n",
              "      \n",
              "  <style>\n",
              "    .colab-df-container {\n",
              "      display:flex;\n",
              "      flex-wrap:wrap;\n",
              "      gap: 12px;\n",
              "    }\n",
              "\n",
              "    .colab-df-convert {\n",
              "      background-color: #E8F0FE;\n",
              "      border: none;\n",
              "      border-radius: 50%;\n",
              "      cursor: pointer;\n",
              "      display: none;\n",
              "      fill: #1967D2;\n",
              "      height: 32px;\n",
              "      padding: 0 0 0 0;\n",
              "      width: 32px;\n",
              "    }\n",
              "\n",
              "    .colab-df-convert:hover {\n",
              "      background-color: #E2EBFA;\n",
              "      box-shadow: 0px 1px 2px rgba(60, 64, 67, 0.3), 0px 1px 3px 1px rgba(60, 64, 67, 0.15);\n",
              "      fill: #174EA6;\n",
              "    }\n",
              "\n",
              "    [theme=dark] .colab-df-convert {\n",
              "      background-color: #3B4455;\n",
              "      fill: #D2E3FC;\n",
              "    }\n",
              "\n",
              "    [theme=dark] .colab-df-convert:hover {\n",
              "      background-color: #434B5C;\n",
              "      box-shadow: 0px 1px 3px 1px rgba(0, 0, 0, 0.15);\n",
              "      filter: drop-shadow(0px 1px 2px rgba(0, 0, 0, 0.3));\n",
              "      fill: #FFFFFF;\n",
              "    }\n",
              "  </style>\n",
              "\n",
              "      <script>\n",
              "        const buttonEl =\n",
              "          document.querySelector('#df-32d4676f-e98b-4184-9907-c7bea53db5b0 button.colab-df-convert');\n",
              "        buttonEl.style.display =\n",
              "          google.colab.kernel.accessAllowed ? 'block' : 'none';\n",
              "\n",
              "        async function convertToInteractive(key) {\n",
              "          const element = document.querySelector('#df-32d4676f-e98b-4184-9907-c7bea53db5b0');\n",
              "          const dataTable =\n",
              "            await google.colab.kernel.invokeFunction('convertToInteractive',\n",
              "                                                     [key], {});\n",
              "          if (!dataTable) return;\n",
              "\n",
              "          const docLinkHtml = 'Like what you see? Visit the ' +\n",
              "            '<a target=\"_blank\" href=https://colab.research.google.com/notebooks/data_table.ipynb>data table notebook</a>'\n",
              "            + ' to learn more about interactive tables.';\n",
              "          element.innerHTML = '';\n",
              "          dataTable['output_type'] = 'display_data';\n",
              "          await google.colab.output.renderOutput(dataTable, element);\n",
              "          const docLink = document.createElement('div');\n",
              "          docLink.innerHTML = docLinkHtml;\n",
              "          element.appendChild(docLink);\n",
              "        }\n",
              "      </script>\n",
              "    </div>\n",
              "  </div>\n",
              "  "
            ],
            "text/plain": [
              "                                                   Title Score  Rank\n",
              "3971                     Fullmetal Alchemist:Brotherhood  9.19     1\n",
              "9913                                    Gintama Season 4   9.1     2\n",
              "6006                                    Gintama Season 2  9.08     3\n",
              "7261                                   Gintama:Enchousen  9.04     4\n",
              "12242                                   Gintama Season 5  8.99     5\n",
              "7249   Gintama Movie 2: Kanketsu-hen - Yorozuya yo Ei...  8.96     6\n",
              "833                                              Gintama  8.96     7\n",
              "15631                                 Gintama: The Final  8.88     8\n",
              "11624                                Haikyu!! 3rd Season  8.87     9\n",
              "14293         Gintama.:Silver Soul Arc - Second Half War  8.86    10"
            ]
          },
          "execution_count": 83,
          "metadata": {},
          "output_type": "execute_result"
        }
      ],
      "source": [
        "def Recomendar_TopN_multi(list_generos, n):\n",
        "\n",
        "  dfAux = df_animes.loc[df_animes[\"Score\"] != \"Unknown\"]\n",
        "  dfAux[\"Genres\"] = dfAux[\"Genres\"].str.replace(\", \",\",\")\n",
        "  dfAux = dfAux.sort_values(by=\"Score\",ascending=False)\n",
        "  dfAux[\"English name\"].mask(dfAux[\"English name\"] == \"Unknown\", dfAux[\"Name\"], inplace=True)\n",
        "\n",
        "  dfAux[\"Title\"] = dfAux[\"English name\"]\n",
        "\n",
        "  filtro = [dfAux[\"Genres\"].str.contains(i) for i in list_generos]\n",
        "  dfAux = dfAux[np.all(filtro, axis=0)]\n",
        "\n",
        "  dfMostrar = dfAux[[\"Title\",\"Score\"]]\n",
        "  dfMostrar[\"Rank\"] = np.arange(1,len(dfMostrar)+1)\n",
        "  dfMostrar = dfMostrar.head(n)\n",
        "  \n",
        "  return dfMostrar\n",
        "\n",
        "dfMostrar = Recomendar_TopN_multi([\"Comedy\",\"Shounen\"],10)\n",
        "dfMostrar"
      ]
    }
  ],
  "metadata": {
    "colab": {
      "provenance": [],
      "toc_visible": true
    },
    "kernelspec": {
      "display_name": "Python 3",
      "name": "python3"
    },
    "language_info": {
      "codemirror_mode": {
        "name": "ipython",
        "version": 3
      },
      "file_extension": ".py",
      "mimetype": "text/x-python",
      "name": "python",
      "nbconvert_exporter": "python",
      "pygments_lexer": "ipython3",
      "version": "3.11.3"
    }
  },
  "nbformat": 4,
  "nbformat_minor": 0
}
